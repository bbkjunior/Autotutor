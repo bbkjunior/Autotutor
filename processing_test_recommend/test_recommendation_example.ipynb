{
 "cells": [
  {
   "cell_type": "code",
   "execution_count": 4,
   "metadata": {},
   "outputs": [],
   "source": [
    "from text_processing_udpipe import get_text_map"
   ]
  },
  {
   "cell_type": "code",
   "execution_count": 5,
   "metadata": {},
   "outputs": [
    {
     "name": "stderr",
     "output_type": "stream",
     "text": [
      "/Users/lilyakhoang/anaconda3/lib/python3.7/site-packages/sklearn/ensemble/weight_boosting.py:29: DeprecationWarning: numpy.core.umath_tests is an internal NumPy module and should not be imported. It will be removed in a future NumPy release.\n",
      "  from numpy.core.umath_tests import inner1d\n"
     ]
    }
   ],
   "source": [
    "from test_and_recommendation import user_vector, recommendation"
   ]
  },
  {
   "cell_type": "code",
   "execution_count": 6,
   "metadata": {},
   "outputs": [],
   "source": [
    "from os import listdir\n",
    "from os.path import join\n",
    "import random"
   ]
  },
  {
   "cell_type": "markdown",
   "metadata": {},
   "source": [
    "ПРЕДОБРАБАТЫВАЕМ ТЕКСТЫ ПОДГОТОВЛЕННЫМ АЛГОРИТМОМ get_text_map"
   ]
  },
  {
   "cell_type": "code",
   "execution_count": 9,
   "metadata": {},
   "outputs": [
    {
     "name": "stdout",
     "output_type": "stream",
     "text": [
      "A1.txt\n"
     ]
    },
    {
     "name": "stderr",
     "output_type": "stream",
     "text": [
      "[========================================================================] 100%\r"
     ]
    },
    {
     "name": "stdout",
     "output_type": "stream",
     "text": [
      "A2.txt\n"
     ]
    },
    {
     "name": "stderr",
     "output_type": "stream",
     "text": [
      "[========================================================================] 100%\r"
     ]
    },
    {
     "name": "stdout",
     "output_type": "stream",
     "text": [
      "A3.txt\n"
     ]
    },
    {
     "name": "stderr",
     "output_type": "stream",
     "text": [
      "[========================================================================] 100%\r"
     ]
    },
    {
     "name": "stdout",
     "output_type": "stream",
     "text": [
      "A4.txt\n"
     ]
    },
    {
     "name": "stderr",
     "output_type": "stream",
     "text": [
      "[========================================================================] 100%\r"
     ]
    },
    {
     "name": "stdout",
     "output_type": "stream",
     "text": [
      "B4.txt\n"
     ]
    },
    {
     "name": "stderr",
     "output_type": "stream",
     "text": [
      "[========================================================================] 100%\r"
     ]
    },
    {
     "name": "stdout",
     "output_type": "stream",
     "text": [
      "B5.txt\n"
     ]
    },
    {
     "name": "stderr",
     "output_type": "stream",
     "text": [
      "[========================================================================] 100%\r"
     ]
    },
    {
     "name": "stdout",
     "output_type": "stream",
     "text": [
      "C1.txt\n"
     ]
    },
    {
     "name": "stderr",
     "output_type": "stream",
     "text": [
      "[========================================================================] 100%\r"
     ]
    },
    {
     "name": "stdout",
     "output_type": "stream",
     "text": [
      "C3.txt\n"
     ]
    },
    {
     "name": "stderr",
     "output_type": "stream",
     "text": [
      "[========================================================================] 100%\r"
     ]
    },
    {
     "name": "stdout",
     "output_type": "stream",
     "text": [
      "C2.txt\n"
     ]
    },
    {
     "name": "stderr",
     "output_type": "stream",
     "text": [
      "[========================================================================] 100%\r"
     ]
    },
    {
     "name": "stdout",
     "output_type": "stream",
     "text": [
      "B2.txt\n"
     ]
    },
    {
     "name": "stderr",
     "output_type": "stream",
     "text": [
      "[========================================================================] 100%\r"
     ]
    },
    {
     "name": "stdout",
     "output_type": "stream",
     "text": [
      "B3.txt\n"
     ]
    },
    {
     "name": "stderr",
     "output_type": "stream",
     "text": [
      "[========================================================================] 100%\r"
     ]
    },
    {
     "name": "stdout",
     "output_type": "stream",
     "text": [
      "B1.txt\n"
     ]
    },
    {
     "name": "stderr",
     "output_type": "stream",
     "text": [
      "[========================================================================] 100%\r"
     ]
    }
   ],
   "source": [
    "texts = []\n",
    "for file in listdir(\"./for_test\"):\n",
    "    if file.endswith(\".txt\"):\n",
    "        print(file)\n",
    "        line = ''\n",
    "        with open(join(\"./for_test\", file), 'r', encoding = \"utf-8\") as f:\n",
    "            for l in f.readlines():\n",
    "                line += l + ' '\n",
    "            line = line.strip()\n",
    "        text_map = get_text_map(line)\n",
    "        texts.append(text_map)"
   ]
  },
  {
   "cell_type": "markdown",
   "metadata": {},
   "source": [
    "# СИМУЛИРУЕМ ПРОЦЕСС ПРОХОЖДЕНИЯ ТЕСТА НА ПРЕДОБРАБОТАННЫХ ТЕКСТАХ"
   ]
  },
  {
   "cell_type": "code",
   "execution_count": 10,
   "metadata": {},
   "outputs": [
    {
     "name": "stdout",
     "output_type": "stream",
     "text": [
      "\n"
     ]
    }
   ],
   "source": [
    "DEBUG = False\n",
    "user = user_vector(debug = DEBUG)\n",
    "for text in texts:\n",
    "    #print(\"NEW TEXT\")\n",
    "    user.start_new_text()\n",
    "    answers = []  \n",
    "    \n",
    "    #print(len(text['sentences_map']))\n",
    "    mark_sentences_indexes = random.sample(range(len(text['sentences_map'])), min(len(text['sentences_map']),5))\n",
    "    #print(\"mark_sentences_indexes\", mark_sentences_indexes)\n",
    "    answers = [0,1,1,1,0]\n",
    "    \"\"\"\n",
    "    positive_count = random.randint(0, 4)\n",
    "    for i in range(positive_count):\n",
    "        answers[i] = 1\n",
    "    #for j in range(len(mark_sentences_indexes)): \n",
    "        #answers.append(random.randint(0, 1))\"\"\"\n",
    "    \n",
    "    for sentence_ind,answer in zip(mark_sentences_indexes,answers):\n",
    "        #print(sentence_ind)\n",
    "        user.update_vector_with_answer_sentence(text['sentences_map'][sentence_ind], correct_answer = answer)\n",
    "    user.end_text(text)\n",
    "vocab_model, sentence_model, text_model = user.export_user_vector()  "
   ]
  },
  {
   "cell_type": "markdown",
   "metadata": {},
   "source": [
    "СТРОИМ МОДЕЛЬ НОВОГО ТЕКСТА ПОД РЕКОМЕНДАЦИЮ"
   ]
  },
  {
   "cell_type": "code",
   "execution_count": 12,
   "metadata": {},
   "outputs": [
    {
     "name": "stderr",
     "output_type": "stream",
     "text": [
      "[========================================================================] 100%\r"
     ]
    }
   ],
   "source": [
    "with open(\"text_8.txt\", 'r', encoding = \"utf-8\") as f:\n",
    "    for l in f.readlines():\n",
    "        line += l + ' '\n",
    "    line = line.strip()\n",
    "    text_map = get_text_map(line)"
   ]
  },
  {
   "cell_type": "code",
   "execution_count": 14,
   "metadata": {},
   "outputs": [
    {
     "data": {
      "text/plain": [
       "((0.1371958234820967, 0.10738569338449622),\n",
       " -0.23469818530255226,\n",
       " -0.2500000000000001)"
      ]
     },
     "execution_count": 14,
     "metadata": {},
     "output_type": "execute_result"
    }
   ],
   "source": [
    "recommendation(texts[8],vocab_model,sentence_model,text_model, debug = False)"
   ]
  },
  {
   "cell_type": "code",
   "execution_count": null,
   "metadata": {},
   "outputs": [],
   "source": [
    "(%понимаемых слов - 0.85, показатель уверенности в предсказании)\n",
    "средняя вероятность понимания предложения - 0.85\n",
    "%вопросом на которые человек сможет ответить - 0.85"
   ]
  }
 ],
 "metadata": {
  "kernelspec": {
   "display_name": "Python 3",
   "language": "python",
   "name": "python3"
  },
  "language_info": {
   "codemirror_mode": {
    "name": "ipython",
    "version": 3
   },
   "file_extension": ".py",
   "mimetype": "text/x-python",
   "name": "python",
   "nbconvert_exporter": "python",
   "pygments_lexer": "ipython3",
   "version": "3.6.4"
  }
 },
 "nbformat": 4,
 "nbformat_minor": 2
}
