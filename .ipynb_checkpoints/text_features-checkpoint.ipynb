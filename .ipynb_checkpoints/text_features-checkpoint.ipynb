{
 "cells": [
  {
   "cell_type": "code",
   "execution_count": 26,
   "metadata": {},
   "outputs": [],
   "source": [
    "import string\n",
    "\n",
    "import progressbar\n",
    "from time import sleep\n",
    "\n",
    "from string import punctuation\n",
    "\n",
    "from pymystem3 import Mystem\n",
    "from nltk.corpus import stopwords"
   ]
  },
  {
   "cell_type": "code",
   "execution_count": null,
   "metadata": {
    "collapsed": true
   },
   "outputs": [],
   "source": [
    "full_punctuation = punctuation + \"–\" + \",\"\n",
    "full_punctuation"
   ]
  },
  {
   "cell_type": "code",
   "execution_count": 21,
   "metadata": {},
   "outputs": [
    {
     "data": {
      "text/plain": [
       "'!\"#$%&\\'()*+,-./:;<=>?@[\\\\]^_`{|}~–,'"
      ]
     },
     "execution_count": 21,
     "metadata": {},
     "output_type": "execute_result"
    }
   ],
   "source": [
    "punctuation += \"–\" + \",\"\n",
    "punctuation"
   ]
  },
  {
   "cell_type": "code",
   "execution_count": 24,
   "metadata": {
    "collapsed": true
   },
   "outputs": [],
   "source": [
    "#Create lemmatizer and stopwords list\n",
    "mystem = Mystem() \n",
    "russian_stopwords = stopwords.words(\"russian\")\n",
    "\n",
    "#Preprocess function\n",
    "def preprocess_text(text):\n",
    "    tokens = mystem.lemmatize(text.lower())\n",
    "    tokens = [token for token in tokens #if token not in russian_stopwords\\\n",
    "              if token != \" \" and token.strip() not in punctuation]\n",
    "    \n",
    "    text = \" \".join(tokens)\n",
    "    \n",
    "    return text\n",
    "\n",
    "def process_and_write_file(file, destination):\n",
    "    preprocessed_text = []\n",
    "    lines = 0\n",
    "    with open (file, \"r\", encoding = \"utf-8\") as file:\n",
    "        all_lines = file.readlines()\n",
    "        bar = progressbar.ProgressBar(maxval=len(all_lines),\n",
    "                                      widgets=[progressbar.Bar('=', '[', ']'), ' ', progressbar.Percentage()])\n",
    "        bar.start()\n",
    "        for line in all_lines:\n",
    "            t = preprocess_text(line)\n",
    "            preprocessed_text.append(t)\n",
    "            lines += 1\n",
    "            bar.update(lines)\n",
    "            sleep(0.1)               \n",
    "            \n",
    "    with open (destination, \"w+\", encoding = \"utf-8\") as write_file:\n",
    "        for line in preprocessed_text:\n",
    "            write_file.write(line + '\\n')"
   ]
  },
  {
   "cell_type": "code",
   "execution_count": 25,
   "metadata": {},
   "outputs": [
    {
     "name": "stderr",
     "output_type": "stream",
     "text": [
      "[========================================================================] 100%\r"
     ]
    }
   ],
   "source": [
    "process_and_write_file(\"text_8.txt\", \"text_8_processed.txt\")"
   ]
  },
  {
   "cell_type": "code",
   "execution_count": null,
   "metadata": {
    "collapsed": true
   },
   "outputs": [],
   "source": []
  },
  {
   "cell_type": "code",
   "execution_count": 6,
   "metadata": {},
   "outputs": [
    {
     "name": "stdout",
     "output_type": "stream",
     "text": [
      "[{'analysis': [{'lex': 'в', 'wt': 0.9999917878, 'gr': 'PR='}], 'text': 'В'}, {'text': ' '}, {'analysis': [{'lex': 'класс', 'wt': 1, 'gr': 'S,муж,неод=пр,ед'}], 'text': 'классе'}, {'text': ' '}, {'analysis': [{'lex': 'быть', 'wt': 1, 'gr': 'V,нп=прош,ед,изъяв,муж,несов'}], 'text': 'был'}, {'text': ' '}, {'analysis': [{'lex': 'урок', 'wt': 0.9992735223, 'gr': 'S,муж,неод=(вин,ед|им,ед)'}], 'text': 'урок'}, {'text': ' '}, {'analysis': [{'lex': 'русский', 'wt': 0.9496245492, 'gr': 'A=(вин,ед,полн,муж,од|род,ед,полн,муж|род,ед,полн,сред)'}], 'text': 'русского'}, {'text': ' '}, {'analysis': [{'lex': 'язык', 'wt': 0.9963354032, 'gr': 'S,муж,неод=род,ед'}], 'text': 'языка'}, {'text': '. '}, {'analysis': [{'lex': 'преподаватель', 'wt': 1, 'gr': 'S,муж,од=им,ед'}], 'text': 'Преподаватель'}, {'text': ' '}, {'analysis': [{'lex': 'читать', 'wt': 1, 'gr': 'V,несов,пе=прош,ед,изъяв,муж'}], 'text': 'читал'}, {'text': ' '}, {'analysis': [{'lex': 'новый', 'wt': 1, 'gr': 'A=(вин,ед,полн,муж,неод|им,ед,полн,муж)'}], 'text': 'новый'}, {'text': ' '}, {'analysis': [{'lex': 'текст', 'wt': 1, 'gr': 'S,муж,неод=(вин,ед|им,ед)'}], 'text': 'текст'}, {'text': '.'}, {'text': '\\n'}]\n",
      "\n",
      "\n",
      "[{'analysis': [{'lex': 'студент', 'wt': 1, 'gr': 'S,муж,од=им,мн'}], 'text': 'Студенты'}, {'text': ' '}, {'analysis': [{'lex': 'внимательно', 'wt': 0.9881990478, 'gr': 'ADV='}], 'text': 'внимательно'}, {'text': ' '}, {'analysis': [{'lex': 'слушать', 'wt': 1, 'gr': 'V,несов,пе=прош,мн,изъяв'}], 'text': 'слушали'}, {'text': '.'}, {'text': '\\n'}]\n",
      "\n",
      "\n",
      "[{'text': '– '}, {'analysis': [{'lex': 'извинять', 'wt': 1, 'gr': 'V,пе=(непрош,мн,изъяв,2-л,сов|мн,пов,2-л,сов)'}], 'text': 'Извините'}, {'text': ', '}, {'analysis': [{'lex': 'можно', 'wt': 1, 'gr': 'ADV,прдк='}], 'text': 'можно'}, {'text': ' '}, {'analysis': [{'lex': 'входить', 'wt': 1, 'gr': 'V,нп=инф,сов'}], 'text': 'войти'}, {'text': '? '}, {'analysis': [{'lex': 'я', 'wt': 0.9999716281, 'gr': 'SPRO,ед,1-л=им'}], 'text': 'Я'}, {'text': ' '}, {'analysis': [{'lex': 'опаздывать', 'wt': 1, 'gr': 'V,нп=прош,ед,изъяв,муж,сов'}], 'text': 'опоздал'}, {'text': ', – '}, {'analysis': [{'lex': 'сказать', 'wt': 1, 'gr': 'V,сов,пе=прош,ед,изъяв,муж'}], 'text': 'сказал'}, {'text': ' '}, {'analysis': [{'lex': 'джон', 'wt': 1, 'gr': 'S,имя,муж,од=им,ед'}], 'text': 'Джон'}, {'text': '.'}, {'text': '\\n'}]\n",
      "\n",
      "\n",
      "[{'text': '– '}, {'analysis': [{'lex': 'что', 'wt': 0.2934446278, 'gr': 'SPRO,ед,сред,неод=(вин|им)'}], 'text': 'Что'}, {'text': ' '}, {'analysis': [{'lex': 'случаться', 'wt': 1, 'gr': 'V,нп=прош,ед,изъяв,сред,сов'}], 'text': 'случилось'}, {'text': ', '}, {'analysis': [{'lex': 'джон', 'wt': 1, 'gr': 'S,имя,муж,од=им,ед'}], 'text': 'Джон'}, {'text': '? '}, {'analysis': [{'lex': 'вчера', 'wt': 0.9972698677, 'gr': 'ADV='}], 'text': 'Вчера'}, {'text': ' '}, {'analysis': [{'lex': 'вы', 'wt': 1, 'gr': 'SPRO,мн,2-л=им'}], 'text': 'вы'}, {'text': ' '}, {'analysis': [{'lex': 'опаздывать', 'wt': 1, 'gr': 'V,нп=прош,мн,изъяв,сов'}], 'text': 'опоздали'}, {'text': ', '}, {'analysis': [{'lex': 'сегодня', 'wt': 0.9987230405, 'gr': 'ADV='}], 'text': 'сегодня'}, {'text': ' '}, {'analysis': [{'lex': 'вы', 'wt': 1, 'gr': 'SPRO,мн,2-л=им'}], 'text': 'вы'}, {'text': ' '}, {'analysis': [{'lex': 'опаздывать', 'wt': 1, 'gr': 'V,нп=прош,мн,изъяв,сов'}], 'text': 'опоздали'}, {'text': '. '}, {'analysis': [{'lex': 'нельзя', 'wt': 1, 'gr': 'ADV,прдк='}], 'text': 'Нельзя'}, {'text': '\\n'}]\n",
      "\n",
      "\n",
      "[{'analysis': [{'lex': 'опаздывать', 'wt': 1, 'gr': 'V,нп=инф,несов'}], 'text': 'опаздывать'}, {'text': ' '}, {'analysis': [{'lex': 'на', 'wt': 0.9989522965, 'gr': 'PR='}], 'text': 'на'}, {'text': ' '}, {'analysis': [{'lex': 'урок', 'wt': 0.9992735223, 'gr': 'S,муж,неод=(вин,ед|им,ед)'}], 'text': 'урок'}, {'text': '.'}, {'text': '\\n'}]\n",
      "\n",
      "\n",
      "[{'analysis': [{'lex': 'вечер', 'wt': 0.9955436908, 'gr': 'S,муж,неод=твор,ед'}], 'text': 'Вечером'}, {'text': ' '}, {'analysis': [{'lex': 'джон', 'wt': 1, 'gr': 'S,имя,муж,од=им,ед'}], 'text': 'Джон'}, {'text': ' '}, {'analysis': [{'lex': 'приходить', 'wt': 0.9984379383, 'gr': 'V,нп=прош,ед,изъяв,муж,сов'}], 'text': 'пришел'}, {'text': ' '}, {'analysis': [{'lex': 'домой', 'wt': 0.9999989314, 'gr': 'ADV='}], 'text': 'домой'}, {'text': '. '}, {'analysis': [{'lex': 'дома', 'wt': 0.359921715, 'gr': 'ADV='}], 'text': 'Дома'}, {'text': ' '}, {'analysis': [{'lex': 'он', 'wt': 1, 'gr': 'SPRO,ед,3-л,муж=им'}], 'text': 'он'}, {'text': ' '}, {'analysis': [{'lex': 'долго', 'wt': 0.9956396745, 'gr': 'ADV='}], 'text': 'долго'}, {'text': ' '}, {'analysis': [{'lex': 'думать', 'wt': 0.9989551473, 'gr': 'V,несов,нп=прош,ед,изъяв,муж'}], 'text': 'думал'}, {'text': ': «'}, {'analysis': [{'lex': 'вчера', 'wt': 0.9972698677, 'gr': 'ADV='}], 'text': 'Вчера'}, {'text': ' '}, {'analysis': [{'lex': 'я', 'wt': 0.9999716281, 'gr': 'SPRO,ед,1-л=им'}], 'text': 'я'}, {'text': ' '}, {'analysis': [{'lex': 'опаздывать', 'wt': 1, 'gr': 'V,нп=прош,ед,изъяв,муж,сов'}], 'text': 'опоздал'}, {'text': ',\\n'}]\n",
      "\n",
      "\n",
      "[{'analysis': [{'lex': 'сегодня', 'wt': 0.9987230405, 'gr': 'ADV='}], 'text': 'сегодня'}, {'text': ' '}, {'analysis': [{'lex': 'я', 'wt': 0.9999716281, 'gr': 'SPRO,ед,1-л=им'}], 'text': 'я'}, {'text': ' '}, {'analysis': [{'lex': 'тоже', 'wt': 0.9944987474, 'gr': 'PART='}], 'text': 'тоже'}, {'text': ' '}, {'analysis': [{'lex': 'опаздывать', 'wt': 1, 'gr': 'V,нп=прош,ед,изъяв,муж,сов'}], 'text': 'опоздал'}, {'text': '. '}, {'analysis': [{'lex': 'это', 'wt': 0.7809833731, 'gr': 'SPRO,ед,сред,неод=(вин|им)'}], 'text': 'Это'}, {'text': ' '}, {'analysis': [{'lex': 'очень', 'wt': 1, 'gr': 'ADV='}], 'text': 'очень'}, {'text': ' '}, {'analysis': [{'lex': 'плохой', 'wt': 0.1336617763, 'gr': 'A=ед,кр,сред'}], 'text': 'плохо'}, {'text': '. '}, {'analysis': [{'lex': 'не', 'wt': 1, 'gr': 'PART='}], 'text': 'Не'}, {'text': ' '}, {'analysis': [{'lex': 'быть', 'wt': 0.8530947255, 'gr': 'V,нп=непрош,ед,изъяв,1-л'}], 'text': 'буду'}, {'text': ' '}, {'analysis': [{'lex': 'больше', 'wt': 0.8140595769, 'gr': 'ADV='}], 'text': 'больше'}, {'text': ' '}, {'analysis': [{'lex': 'опаздывать', 'wt': 1, 'gr': 'V,нп=инф,несов'}], 'text': 'опаздывать'}, {'text': ' '}, {'analysis': [{'lex': 'на', 'wt': 0.9989522965, 'gr': 'PR='}], 'text': 'на'}, {'text': '\\n'}]\n",
      "\n",
      "\n",
      "[{'analysis': [{'lex': 'урок', 'wt': 0.9992735223, 'gr': 'S,муж,неод=(вин,ед|им,ед)'}], 'text': 'урок'}, {'text': '. '}, {'analysis': [{'lex': 'завтра', 'wt': 0.9964678515, 'gr': 'ADV='}], 'text': 'Завтра'}, {'text': ' '}, {'analysis': [{'lex': 'я', 'wt': 0.9999716281, 'gr': 'SPRO,ед,1-л=им'}], 'text': 'я'}, {'text': ' '}, {'analysis': [{'lex': 'вставать', 'wt': 1, 'gr': 'V,нп=непрош,ед,изъяв,1-л,сов'}], 'text': 'встану'}, {'text': ' '}, {'analysis': [{'lex': 'рано', 'wt': 0.8482361601, 'gr': 'ADV='}], 'text': 'рано'}, {'text': ', '}, {'analysis': [{'lex': 'в', 'wt': 0.9999917878, 'gr': 'PR='}], 'text': 'в'}, {'text': ' '}, {'text': '8'}, {'text': ' '}, {'analysis': [{'lex': 'час', 'wt': 0.7444524321, 'gr': 'S,муж,неод=род,мн'}], 'text': 'часов'}, {'text': ', '}, {'analysis': [{'lex': 'быстро', 'wt': 0.9972694661, 'gr': 'ADV='}], 'text': 'быстро'}, {'text': ' '}, {'analysis': [{'lex': 'сделать', 'wt': 1, 'gr': 'V,сов,пе=непрош,ед,изъяв,1-л'}], 'text': 'сделаю'}, {'text': ' '}, {'analysis': [{'lex': 'зарядка', 'wt': 1, 'gr': 'S,жен,неод=вин,ед'}], 'text': 'зарядку'}, {'text': ', '}, {'analysis': [{'lex': 'приготавливать', 'wt': 1, 'gr': 'V=непрош,ед,изъяв,1-л,сов,пе'}], 'text': 'приготовлю'}, {'text': '\\n'}]\n",
      "\n",
      "\n",
      "[{'analysis': [{'lex': 'завтрак', 'wt': 1, 'gr': 'S,муж,неод=(вин,ед|им,ед)'}], 'text': 'завтрак'}, {'text': ', '}, {'analysis': [{'lex': 'позавтракать', 'wt': 1, 'gr': 'V,сов,нп=непрош,ед,изъяв,1-л'}], 'text': 'позавтракаю'}, {'text': ', '}, {'analysis': [{'lex': 'повторять', 'wt': 1, 'gr': 'V,пе=непрош,ед,изъяв,1-л,сов'}], 'text': 'повторю'}, {'text': ' '}, {'analysis': [{'lex': 'домашний', 'wt': 1, 'gr': 'A=(вин,ед,полн,сред|им,ед,полн,сред)'}], 'text': 'домашнее'}, {'text': ' '}, {'analysis': [{'lex': 'задание', 'wt': 1, 'gr': 'S,сред,неод=(вин,ед|им,ед)'}], 'text': 'задание'}, {'text': '. '}, {'analysis': [{'lex': 'завтра', 'wt': 0.9964678515, 'gr': 'ADV='}], 'text': 'Завтра'}, {'text': ' '}, {'analysis': [{'lex': 'я', 'wt': 0.9999716281, 'gr': 'SPRO,ед,1-л=им'}], 'text': 'я'}, {'text': ' '}, {'analysis': [{'lex': 'не', 'wt': 1, 'gr': 'PART='}], 'text': 'не'}, {'text': ' '}, {'analysis': [{'lex': 'опаздывать', 'wt': 1, 'gr': 'V,нп=непрош,ед,изъяв,1-л,сов'}], 'text': 'опоздаю'}, {'text': '!'}, {'text': '»\\n'}]\n",
      "\n",
      "\n"
     ]
    },
    {
     "name": "stdout",
     "output_type": "stream",
     "text": [
      "[{'analysis': [{'lex': 'утро', 'wt': 0.9927170271, 'gr': 'S,сред,неод=твор,ед'}], 'text': 'Утром'}, {'text': ' '}, {'analysis': [{'lex': 'джон', 'wt': 1, 'gr': 'S,имя,муж,од=им,ед'}], 'text': 'Джон'}, {'text': ' '}, {'analysis': [{'lex': 'вставать', 'wt': 1, 'gr': 'V,нп=прош,ед,изъяв,муж,сов'}], 'text': 'встал'}, {'text': ' '}, {'analysis': [{'lex': 'в', 'wt': 0.9999917878, 'gr': 'PR='}], 'text': 'в'}, {'text': ' '}, {'text': '8'}, {'text': ' '}, {'analysis': [{'lex': 'час', 'wt': 0.7444524321, 'gr': 'S,муж,неод=род,мн'}], 'text': 'часов'}, {'text': '. '}, {'analysis': [{'lex': 'он', 'wt': 1, 'gr': 'SPRO,ед,3-л,муж=им'}], 'text': 'Он'}, {'text': ' '}, {'analysis': [{'lex': 'сделать', 'wt': 1, 'gr': 'V,сов,пе=прош,ед,изъяв,муж'}], 'text': 'сделал'}, {'text': ' '}, {'analysis': [{'lex': 'зарядка', 'wt': 1, 'gr': 'S,жен,неод=вин,ед'}], 'text': 'зарядку'}, {'text': ', '}, {'analysis': [{'lex': 'приготавливать', 'wt': 1, 'gr': 'V=прош,ед,изъяв,муж,сов,пе'}], 'text': 'приготовил'}, {'text': ' '}, {'analysis': [{'lex': 'завтрак', 'wt': 1, 'gr': 'S,муж,неод=(вин,ед|им,ед)'}], 'text': 'завтрак'}, {'text': ',\\n'}]\n",
      "\n",
      "\n",
      "[{'analysis': [{'lex': 'позавтракать', 'wt': 1, 'gr': 'V,сов,нп=прош,ед,изъяв,муж'}], 'text': 'позавтракал'}, {'text': ', '}, {'analysis': [{'lex': 'повторять', 'wt': 1, 'gr': 'V,пе=прош,ед,изъяв,муж,сов'}], 'text': 'повторил'}, {'text': ' '}, {'analysis': [{'lex': 'домашний', 'wt': 1, 'gr': 'A=(вин,ед,полн,сред|им,ед,полн,сред)'}], 'text': 'домашнее'}, {'text': ' '}, {'analysis': [{'lex': 'задание', 'wt': 1, 'gr': 'S,сред,неод=(вин,ед|им,ед)'}], 'text': 'задание'}, {'text': ' '}, {'analysis': [{'lex': 'и', 'wt': 0.9999770357, 'gr': 'CONJ='}], 'text': 'и'}, {'text': ' '}, {'analysis': [{'lex': 'пойти', 'wt': 1, 'gr': 'V,сов,нп=прош,ед,изъяв,муж'}], 'text': 'пошел'}, {'text': ' '}, {'analysis': [{'lex': 'в', 'wt': 0.9999917878, 'gr': 'PR='}], 'text': 'в'}, {'text': ' '}, {'analysis': [{'lex': 'институт', 'wt': 1, 'gr': 'S,муж,неод=(вин,ед|им,ед)'}], 'text': 'институт'}, {'text': '.'}, {'text': '\\n'}]\n",
      "\n",
      "\n",
      "[{'analysis': [{'lex': 'в', 'wt': 0.9999917878, 'gr': 'PR='}], 'text': 'В'}, {'text': ' '}, {'text': '9'}, {'text': ' '}, {'analysis': [{'lex': 'час', 'wt': 0.7444524321, 'gr': 'S,муж,неод=род,мн'}], 'text': 'часов'}, {'text': ' '}, {'text': '30'}, {'text': ' '}, {'analysis': [{'lex': 'минута', 'wt': 0.9971632333, 'gr': 'S,жен,неод=род,мн'}], 'text': 'минут'}, {'text': ' '}, {'analysis': [{'lex': 'джон', 'wt': 1, 'gr': 'S,имя,муж,од=им,ед'}], 'text': 'Джон'}, {'text': ' '}, {'analysis': [{'lex': 'приходить', 'wt': 0.9984379383, 'gr': 'V,нп=прош,ед,изъяв,муж,сов'}], 'text': 'пришел'}, {'text': ' '}, {'analysis': [{'lex': 'в', 'wt': 0.9999917878, 'gr': 'PR='}], 'text': 'в'}, {'text': ' '}, {'analysis': [{'lex': 'институт', 'wt': 1, 'gr': 'S,муж,неод=(вин,ед|им,ед)'}], 'text': 'институт'}, {'text': '.'}, {'text': '\\n'}]\n",
      "\n",
      "\n",
      "[{'text': '– '}, {'analysis': [{'lex': 'что', 'wt': 0.2934446278, 'gr': 'SPRO,ед,сред,неод=(вин|им)'}], 'text': 'Что'}, {'text': ' '}, {'analysis': [{'lex': 'случаться', 'wt': 1, 'gr': 'V,нп=прош,ед,изъяв,сред,сов'}], 'text': 'случилось'}, {'text': ', '}, {'analysis': [{'lex': 'молодой', 'wt': 0.9970838203, 'gr': 'A=(вин,ед,полн,муж,неод|им,ед,полн,муж|пр,ед,полн,жен|дат,ед,полн,жен|род,ед,полн,жен|твор,ед,полн,жен)'}], 'text': 'молодой'}, {'text': ' '}, {'analysis': [{'lex': 'человек', 'wt': 1, 'gr': 'S,муж,од=(вин,мн|род,мн|им,ед)'}], 'text': 'человек'}, {'text': '? '}, {'analysis': [{'lex': 'куда', 'wt': 0.9999833027, 'gr': 'ADVPRO='}], 'text': 'Куда'}, {'text': ' '}, {'analysis': [{'lex': 'вы', 'wt': 1, 'gr': 'SPRO,мн,2-л=им'}], 'text': 'вы'}, {'text': ' '}, {'analysis': [{'lex': 'идти', 'wt': 1, 'gr': 'V,несов,нп=непрош,мн,изъяв,2-л'}], 'text': 'идете'}, {'text': '?'}, {'text': ' – '}, {'analysis': [{'lex': 'спрашивать', 'wt': 1, 'gr': 'V=прош,ед,изъяв,муж,сов'}], 'text': 'спросил'}, {'text': ' '}, {'analysis': [{'lex': 'дежурный', 'wt': 0.7926072307, 'gr': 'S,муж,од=им,ед'}], 'text': 'дежурный'}, {'text': '.'}, {'text': '\\n'}]\n",
      "\n",
      "\n",
      "[{'text': '– '}, {'analysis': [{'lex': 'я', 'wt': 0.9999716281, 'gr': 'SPRO,ед,1-л=им'}], 'text': 'Я'}, {'text': ' '}, {'analysis': [{'lex': 'идти', 'wt': 0.9985701065, 'gr': 'V,несов,нп=непрош,ед,изъяв,1-л'}], 'text': 'иду'}, {'text': ' '}, {'analysis': [{'lex': 'на', 'wt': 0.9989522965, 'gr': 'PR='}], 'text': 'на'}, {'text': ' '}, {'analysis': [{'lex': 'урок', 'wt': 0.9992735223, 'gr': 'S,муж,неод=(вин,ед|им,ед)'}], 'text': 'урок'}, {'text': '. '}, {'analysis': [{'lex': 'сегодня', 'wt': 0.9987230405, 'gr': 'ADV='}], 'text': 'Сегодня'}, {'text': ' '}, {'analysis': [{'lex': 'я', 'wt': 0.9999716281, 'gr': 'SPRO,ед,1-л=им'}], 'text': 'я'}, {'text': ' '}, {'analysis': [{'lex': 'не', 'wt': 1, 'gr': 'PART='}], 'text': 'не'}, {'text': ' '}, {'analysis': [{'lex': 'опаздывать', 'wt': 1, 'gr': 'V,нп=прош,ед,изъяв,муж,сов'}], 'text': 'опоздал'}, {'text': ', – '}, {'analysis': [{'lex': 'отвечать', 'wt': 1, 'gr': 'V,нп=прош,ед,изъяв,муж,сов'}], 'text': 'ответил'}, {'text': ' '}, {'analysis': [{'lex': 'джон', 'wt': 1, 'gr': 'S,имя,муж,од=им,ед'}], 'text': 'Джон'}, {'text': '.'}, {'text': '\\n'}]\n",
      "\n",
      "\n",
      "[{'text': '– '}, {'analysis': [{'lex': 'идти', 'wt': 0.9999743028, 'gr': 'V,несов,нп=мн,пов,2-л'}], 'text': 'Идите'}, {'text': ' '}, {'analysis': [{'lex': 'домой', 'wt': 0.9999989314, 'gr': 'ADV='}], 'text': 'домой'}, {'text': ', '}, {'analysis': [{'lex': 'молодой', 'wt': 0.9970838203, 'gr': 'A=(вин,ед,полн,муж,неод|им,ед,полн,муж|пр,ед,полн,жен|дат,ед,полн,жен|род,ед,полн,жен|твор,ед,полн,жен)'}], 'text': 'молодой'}, {'text': ' '}, {'analysis': [{'lex': 'человек', 'wt': 1, 'gr': 'S,муж,од=(вин,мн|род,мн|им,ед)'}], 'text': 'человек'}, {'text': '! '}, {'analysis': [{'lex': 'сегодня', 'wt': 0.9987230405, 'gr': 'ADV='}], 'text': 'Сегодня'}, {'text': ' '}, {'analysis': [{'lex': 'нет', 'wt': 0.464233437, 'gr': 'ADV,прдк='}], 'text': 'нет'}, {'text': ' '}, {'analysis': [{'lex': 'урок', 'wt': 1, 'gr': 'S,муж,неод=род,ед'}], 'text': 'урока'}, {'text': '. '}, {'analysis': [{'lex': 'сегодня', 'wt': 0.9987230405, 'gr': 'ADV='}], 'text': 'Сегодня'}, {'text': ' '}, {'analysis': [{'lex': 'воскресение', 'wt': 1, 'gr': 'S,сред,неод=(пр,ед|вин,ед|им,ед)'}], 'text': 'воскресенье'}, {'text': '.'}, {'text': '\\n'}]\n",
      "\n",
      "\n"
     ]
    }
   ],
   "source": [
    "with open (\"text_8.txt\", \"r\", encoding = \"utf-8\") as file:\n",
    "    all_lines = file.readlines()\n",
    "    m = Mystem()\n",
    "    for line in all_lines:\n",
    "        if(line != '\\n' ):\n",
    "            mystemmed_line = m.analyze(line)\n",
    "            print(mystemmed_line)\n",
    "            print(\"\\n\")"
   ]
  }
 ],
 "metadata": {
  "kernelspec": {
   "display_name": "Python 3",
   "language": "python",
   "name": "python3"
  },
  "language_info": {
   "codemirror_mode": {
    "name": "ipython",
    "version": 3
   },
   "file_extension": ".py",
   "mimetype": "text/x-python",
   "name": "python",
   "nbconvert_exporter": "python",
   "pygments_lexer": "ipython3",
   "version": "3.6.2"
  }
 },
 "nbformat": 4,
 "nbformat_minor": 2
}
