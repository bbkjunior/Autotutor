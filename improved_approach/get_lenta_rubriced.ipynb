{
 "cells": [
  {
   "cell_type": "code",
   "execution_count": 1,
   "metadata": {},
   "outputs": [],
   "source": [
    "import pandas as pd"
   ]
  },
  {
   "cell_type": "code",
   "execution_count": 2,
   "metadata": {},
   "outputs": [],
   "source": [
    "lenta = pd.read_csv(\"D:/autotutor_big_files/lenta_noNaN_sort_by_rubric.csv\")"
   ]
  },
  {
   "cell_type": "code",
   "execution_count": 3,
   "metadata": {},
   "outputs": [
    {
     "data": {
      "text/html": [
       "<div>\n",
       "<style scoped>\n",
       "    .dataframe tbody tr th:only-of-type {\n",
       "        vertical-align: middle;\n",
       "    }\n",
       "\n",
       "    .dataframe tbody tr th {\n",
       "        vertical-align: top;\n",
       "    }\n",
       "\n",
       "    .dataframe thead th {\n",
       "        text-align: right;\n",
       "    }\n",
       "</style>\n",
       "<table border=\"1\" class=\"dataframe\">\n",
       "  <thead>\n",
       "    <tr style=\"text-align: right;\">\n",
       "      <th></th>\n",
       "      <th>Unnamed: 0</th>\n",
       "      <th>rubric</th>\n",
       "      <th>subrubric</th>\n",
       "      <th>text</th>\n",
       "    </tr>\n",
       "  </thead>\n",
       "  <tbody>\n",
       "    <tr>\n",
       "      <th>0</th>\n",
       "      <td>79583</td>\n",
       "      <td>Библиотека</td>\n",
       "      <td>90-е</td>\n",
       "      <td>«Лента.ру» продолжает цикл интервью о недавнем...</td>\n",
       "    </tr>\n",
       "    <tr>\n",
       "      <th>1</th>\n",
       "      <td>622011</td>\n",
       "      <td>Библиотека</td>\n",
       "      <td>90-е</td>\n",
       "      <td>«Лента.ру» продолжает цикл интервью о недавнем...</td>\n",
       "    </tr>\n",
       "    <tr>\n",
       "      <th>2</th>\n",
       "      <td>59639</td>\n",
       "      <td>Библиотека</td>\n",
       "      <td>90-е</td>\n",
       "      <td>«Лента.ру» продолжает цикл интервью о недавнем...</td>\n",
       "    </tr>\n",
       "    <tr>\n",
       "      <th>3</th>\n",
       "      <td>693478</td>\n",
       "      <td>Библиотека</td>\n",
       "      <td>90-е</td>\n",
       "      <td>«Лента.ру» продолжает цикл интервью о недавнем...</td>\n",
       "    </tr>\n",
       "    <tr>\n",
       "      <th>4</th>\n",
       "      <td>669688</td>\n",
       "      <td>Библиотека</td>\n",
       "      <td>90-е</td>\n",
       "      <td>«Лента.ру» продолжает цикл интервью о недавнем...</td>\n",
       "    </tr>\n",
       "  </tbody>\n",
       "</table>\n",
       "</div>"
      ],
      "text/plain": [
       "   Unnamed: 0      rubric subrubric  \\\n",
       "0       79583  Библиотека      90-е   \n",
       "1      622011  Библиотека      90-е   \n",
       "2       59639  Библиотека      90-е   \n",
       "3      693478  Библиотека      90-е   \n",
       "4      669688  Библиотека      90-е   \n",
       "\n",
       "                                                text  \n",
       "0  «Лента.ру» продолжает цикл интервью о недавнем...  \n",
       "1  «Лента.ру» продолжает цикл интервью о недавнем...  \n",
       "2  «Лента.ру» продолжает цикл интервью о недавнем...  \n",
       "3  «Лента.ру» продолжает цикл интервью о недавнем...  \n",
       "4  «Лента.ру» продолжает цикл интервью о недавнем...  "
      ]
     },
     "execution_count": 3,
     "metadata": {},
     "output_type": "execute_result"
    }
   ],
   "source": [
    "lenta.head()"
   ]
  },
  {
   "cell_type": "code",
   "execution_count": 6,
   "metadata": {},
   "outputs": [],
   "source": [
    "sport_lenta = lenta[lenta['rubric'] == \"Спорт\"]"
   ]
  },
  {
   "cell_type": "code",
   "execution_count": 8,
   "metadata": {},
   "outputs": [
    {
     "name": "stdout",
     "output_type": "stream",
     "text": [
      "<class 'pandas.core.frame.DataFrame'>\n",
      "Int64Index: 24781 entries, 2719 to 254515\n",
      "Data columns (total 4 columns):\n",
      "Unnamed: 0    24781 non-null int64\n",
      "rubric        24781 non-null object\n",
      "subrubric     24781 non-null object\n",
      "text          24781 non-null object\n",
      "dtypes: int64(1), object(3)\n",
      "memory usage: 968.0+ KB\n"
     ]
    }
   ],
   "source": [
    "sport_lenta.info()"
   ]
  },
  {
   "cell_type": "code",
   "execution_count": 5,
   "metadata": {},
   "outputs": [
    {
     "data": {
      "text/plain": [
       "Россия               46684\n",
       "Мир                  37051\n",
       "Спорт                24781\n",
       "Бывший СССР          23659\n",
       "Культура             19150\n",
       "Силовые структуры    18312\n",
       "Наука и техника      17040\n",
       "Интернет и СМИ       15111\n",
       "Финансы              11500\n",
       "Из жизни             10533\n",
       "Экономика            10082\n",
       "Бизнес                8316\n",
       "Ценности              6573\n",
       "Путешествия           6434\n",
       "69-я параллель         958\n",
       "Библиотека             445\n",
       "Культпросвет           313\n",
       "Lenta.doc              232\n",
       "Легпром                148\n",
       "Медиа                   61\n",
       "Оружие                   3\n",
       "Name: rubric, dtype: int64"
      ]
     },
     "execution_count": 5,
     "metadata": {},
     "output_type": "execute_result"
    }
   ],
   "source": [
    "lenta.rubric.value_counts()"
   ]
  }
 ],
 "metadata": {
  "kernelspec": {
   "display_name": "Python 3",
   "language": "python",
   "name": "python3"
  },
  "language_info": {
   "codemirror_mode": {
    "name": "ipython",
    "version": 3
   },
   "file_extension": ".py",
   "mimetype": "text/x-python",
   "name": "python",
   "nbconvert_exporter": "python",
   "pygments_lexer": "ipython3",
   "version": "3.6.4"
  }
 },
 "nbformat": 4,
 "nbformat_minor": 2
}
