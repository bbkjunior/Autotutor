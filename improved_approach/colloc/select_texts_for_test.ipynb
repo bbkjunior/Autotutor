{
 "cells": [
  {
   "cell_type": "code",
   "execution_count": 1,
   "metadata": {},
   "outputs": [],
   "source": [
    "from calculate_colocations import get_conllu_from_unite_line_text, get_conllu_text_map, get_lemm_and_orig_text_from_udmap\n",
    "from ud_class import Model"
   ]
  },
  {
   "cell_type": "code",
   "execution_count": null,
   "metadata": {},
   "outputs": [],
   "source": [
    "берем первый текст,смотрим на следующий: если менее 10% лемм овпадает то принимаем его"
   ]
  },
  {
   "cell_type": "code",
   "execution_count": 3,
   "metadata": {},
   "outputs": [],
   "source": [
    "import pandas as pd\n",
    "from tqdm import tqdm\n",
    "from collections import Counter\n",
    "import json\n",
    "\n",
    "texts_lenta = pd.read_csv(\"music_lenta.csv\")\n",
    "\n",
    "model = Model('russian-syntagrus-ud-2.0-170801.udpipe')"
   ]
  },
  {
   "cell_type": "code",
   "execution_count": 13,
   "metadata": {},
   "outputs": [],
   "source": [
    "def lemm_text(text, model):\n",
    "    conll = get_conllu_from_unite_line_text(text, model)\n",
    "    conllu_text_map = get_conllu_text_map(conll)\n",
    "    lemm, sent = get_lemm_and_orig_text_from_udmap(conllu_text_map)\n",
    "    lemm_list = []\n",
    "    for sent in lemm:\n",
    "        for word in sent.split():\n",
    "            lemm_list.append(word)\n",
    "    lemm_list = set(lemm_list)\n",
    "    \n",
    "    return lemm_list\n",
    "lemm_list_text = lemm_text(texts_lenta['text'][0], model)"
   ]
  },
  {
   "cell_type": "code",
   "execution_count": 14,
   "metadata": {},
   "outputs": [
    {
     "data": {
      "text/plain": [
       "{'11',\n",
       " '13',\n",
       " '190',\n",
       " '2017',\n",
       " '33',\n",
       " '870',\n",
       " '9',\n",
       " 'а',\n",
       " 'автор',\n",
       " 'артист',\n",
       " 'белый',\n",
       " 'больший',\n",
       " 'большой',\n",
       " 'бы',\n",
       " 'быть',\n",
       " 'в',\n",
       " 'ведущий',\n",
       " 'вести',\n",
       " 'весь',\n",
       " 'возмущать',\n",
       " 'война',\n",
       " 'вооружать',\n",
       " 'второй',\n",
       " 'высокий',\n",
       " 'газета',\n",
       " 'где',\n",
       " 'говорить',\n",
       " 'год',\n",
       " 'гонорар',\n",
       " 'госбюджет',\n",
       " 'государственный',\n",
       " 'гривна',\n",
       " 'даже',\n",
       " 'деньги',\n",
       " 'дождь',\n",
       " 'доллар',\n",
       " 'донбасс',\n",
       " 'дотация',\n",
       " 'евровидение',\n",
       " 'задрапировать',\n",
       " 'закладывать',\n",
       " 'заметка',\n",
       " 'запредельный',\n",
       " 'и',\n",
       " 'идти',\n",
       " 'издание',\n",
       " 'киев',\n",
       " 'коммуналки',\n",
       " 'конкурс',\n",
       " 'конкурса',\n",
       " 'конфликт',\n",
       " 'который',\n",
       " 'лентыру',\n",
       " 'лишний',\n",
       " 'май',\n",
       " 'место',\n",
       " 'миллион',\n",
       " 'мнение',\n",
       " 'можно',\n",
       " 'музыкальный',\n",
       " 'на',\n",
       " 'намечать',\n",
       " 'население',\n",
       " 'не',\n",
       " 'недостра',\n",
       " 'неоправданный',\n",
       " 'непригодный',\n",
       " 'о',\n",
       " 'оказываться',\n",
       " 'оплата',\n",
       " 'отмечать',\n",
       " 'первый',\n",
       " 'писать',\n",
       " 'по',\n",
       " 'подсчет',\n",
       " 'покрытие',\n",
       " 'полотно',\n",
       " 'полуфинал',\n",
       " 'пользой',\n",
       " 'после',\n",
       " 'почти',\n",
       " 'предельно',\n",
       " 'примечание',\n",
       " 'проведение',\n",
       " 'проводить',\n",
       " 'проект',\n",
       " 'проходить',\n",
       " 'процедура',\n",
       " 'пять',\n",
       " 'разница',\n",
       " 'расход',\n",
       " 'речь',\n",
       " 'ровно',\n",
       " 'рядом',\n",
       " 'с',\n",
       " 'себестоимость',\n",
       " 'сжимать',\n",
       " 'сокращенный',\n",
       " 'соревнование',\n",
       " 'состояться',\n",
       " 'срок',\n",
       " 'столько',\n",
       " 'страна',\n",
       " 'также',\n",
       " 'тендер',\n",
       " 'ткань',\n",
       " 'то',\n",
       " 'трата',\n",
       " 'тратить',\n",
       " 'тысяча',\n",
       " 'угольный',\n",
       " 'украина',\n",
       " 'украинец',\n",
       " 'украинский',\n",
       " 'финал',\n",
       " 'хватать',\n",
       " 'частичный',\n",
       " 'часть',\n",
       " 'четверг',\n",
       " 'что',\n",
       " 'шахта',\n",
       " 'шоу',\n",
       " 'это',\n",
       " 'явно'}"
      ]
     },
     "execution_count": 14,
     "metadata": {},
     "output_type": "execute_result"
    }
   ],
   "source": [
    "lemm_list_text"
   ]
  },
  {
   "cell_type": "code",
   "execution_count": null,
   "metadata": {},
   "outputs": [],
   "source": []
  },
  {
   "cell_type": "code",
   "execution_count": 6,
   "metadata": {},
   "outputs": [],
   "source": [
    "\n",
    "conll = get_conllu_from_unite_line_text(texts_lenta['text'][0], model)\n",
    "conllu_text_map = get_conllu_text_map(conll)\n",
    "lemm, sent = get_lemm_and_orig_text_from_udmap(conllu_text_map)\n",
    "lemm_list = []\n",
    "for sent in lemm:\n",
    "    for word in sent.split():\n",
    "        lemm_list.append(word)\n",
    "lemm_list = set(lemm_list)"
   ]
  },
  {
   "cell_type": "code",
   "execution_count": null,
   "metadata": {},
   "outputs": [],
   "source": [
    "texts_lenta['text'][0]"
   ]
  },
  {
   "cell_type": "code",
   "execution_count": null,
   "metadata": {},
   "outputs": [],
   "source": [
    "clean_lemm_list"
   ]
  },
  {
   "cell_type": "code",
   "execution_count": null,
   "metadata": {},
   "outputs": [],
   "source": [
    "clean_lemm_list = get_clean_lemm_list(list(texts_lenta['text']),lang = 'rus')"
   ]
  }
 ],
 "metadata": {
  "kernelspec": {
   "display_name": "Python 3",
   "language": "python",
   "name": "python3"
  },
  "language_info": {
   "codemirror_mode": {
    "name": "ipython",
    "version": 3
   },
   "file_extension": ".py",
   "mimetype": "text/x-python",
   "name": "python",
   "nbconvert_exporter": "python",
   "pygments_lexer": "ipython3",
   "version": "3.6.4"
  }
 },
 "nbformat": 4,
 "nbformat_minor": 2
}
