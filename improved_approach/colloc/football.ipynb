{
 "cells": [
  {
   "cell_type": "code",
   "execution_count": 2,
   "metadata": {},
   "outputs": [
    {
     "name": "stderr",
     "output_type": "stream",
     "text": [
      "\n",
      "  0%|                                                                                        | 0/11338 [00:00<?, ?it/s]\n",
      "  0%|                                                                                | 1/11338 [00:00<54:30,  3.47it/s]\n",
      "  0%|                                                                                | 2/11338 [00:00<53:50,  3.51it/s]\n",
      "  0%|                                                                              | 3/11338 [00:01<1:07:32,  2.80it/s]\n",
      "  0%|                                                                              | 4/11338 [00:01<1:03:06,  2.99it/s]\n",
      "  0%|                                                                              | 5/11338 [00:01<1:03:40,  2.97it/s]\n",
      "  0%|                                                                              | 6/11338 [00:02<1:03:25,  2.98it/s]\n",
      "  0%|                                                                              | 7/11338 [00:02<1:05:48,  2.87it/s]\n",
      "  0%|                                                                              | 8/11338 [00:04<1:42:23,  1.84it/s]\n",
      "  0%|                                                                              | 9/11338 [00:04<1:39:40,  1.89it/s]\n",
      "  0%|                                                                             | 10/11338 [00:06<2:08:38,  1.47it/s]\n",
      "  0%|                                                                             | 11/11338 [00:07<2:02:17,  1.54it/s]\n",
      "  0%|                                                                             | 12/11338 [00:07<1:56:41,  1.62it/s]\n",
      "  0%|                                                                             | 13/11338 [00:07<1:52:10,  1.68it/s]\n",
      "  0%|                                                                             | 14/11338 [00:08<1:50:33,  1.71it/s]\n",
      "  0%|                                                                             | 15/11338 [00:08<1:46:59,  1.76it/s]\n",
      "  0%|                                                                             | 16/11338 [00:09<1:46:12,  1.78it/s]\n",
      "  0%|                                                                             | 17/11338 [00:09<1:42:46,  1.84it/s]\n",
      "  0%|                                                                             | 18/11338 [00:09<1:40:26,  1.88it/s]\n",
      "100%|██████████████████████████████████████████████████████████████████████████| 11338/11338 [1:26:36<00:00,  2.18it/s]\n",
      "100%|██████████████████████████████████████████████████████████████████████████| 11338/11338 [1:38:51<00:00,  1.91it/s]\n"
     ]
    }
   ],
   "source": [
    "from calculate_colocations import get_pos_filtered_colloc_from_corpus_list, get_colloc_from_corpus_list,get_clean_lemm_list\n",
    "import pandas as pd\n",
    "from tqdm import tqdm\n",
    "from collections import Counter\n",
    "\n",
    "import json\n",
    "\n",
    "texts_lenta = pd.read_csv(\"football_lenta.csv\")\n",
    "\n",
    "clean_lemm_list = get_clean_lemm_list(list(texts_lenta['text']),lang = 'rus')\n",
    "\n",
    "unigramm_freq = Counter(clean_lemm_list)\n",
    "with open (\"football_lenta_unigr_freq.json\",\"w\", encoding = \"utf-8\") as f:\n",
    "    json.dump(unigramm_freq, f, indent = 4, ensure_ascii = False)\n",
    "    \n",
    "bigramFreqTable, trigramFreqTable, quadgram_freq, filtered_bi, filtered_tri, bigramPMITable, trigramPMITable, quadragramPMITable, bigramChiTable, trigramChiTable =get_pos_filtered_colloc_from_corpus_list(list(texts_lenta['text']),\"rus\")\n"
   ]
  },
  {
   "cell_type": "code",
   "execution_count": 3,
   "metadata": {},
   "outputs": [
    {
     "name": "stderr",
     "output_type": "stream",
     "text": [
      "100%|████████████████████████████████████████████████████████████████████████| 656821/656821 [03:01<00:00, 3611.56it/s]\n",
      "100%|██████████████████████████████████████████████████████████████████████| 1357505/1357505 [06:16<00:00, 3604.26it/s]\n",
      "100%|██████████████████████████████████████████████████████████████████████| 1707266/1707266 [08:10<00:00, 3481.56it/s]\n",
      "100%|████████████████████████████████████████████████████████████████████████| 142449/142449 [00:39<00:00, 3626.22it/s]\n",
      "100%|████████████████████████████████████████████████████████████████████████| 173858/173858 [01:03<00:00, 2754.91it/s]\n"
     ]
    }
   ],
   "source": [
    "def cean_pos_tags(df, ngramm_name):\n",
    "    clean_words = []\n",
    "    for i in tqdm(range(len(df))):\n",
    "        posed_ngramm = df.iloc[i][ngramm_name]\n",
    "        clean_ngramm = []\n",
    "        for w in posed_ngramm:\n",
    "            word = w.split(\"_\")[0]\n",
    "            clean_ngramm.append(word)\n",
    "        clean_ngramm = tuple(clean_ngramm)\n",
    "        clean_words.append(clean_ngramm)\n",
    "    \n",
    "    data = { \"ngramm\":clean_words,\"freq\":df['freq']}\n",
    "    clean_df = pd.DataFrame(data) \n",
    "    return clean_df\n",
    "bigramFreqTable_clean = cean_pos_tags(bigramFreqTable,'bigram')\n",
    "trigramFreqTable_clean = cean_pos_tags(trigramFreqTable, \"trigram\")\n",
    "quadgram_freq_clean = cean_pos_tags(quadgram_freq, \"quadgramF\")\n",
    "filtered_bi_clean = cean_pos_tags(filtered_bi,'bigram')\n",
    "filtered_tri_clean = cean_pos_tags(filtered_tri,'trigram')"
   ]
  },
  {
   "cell_type": "code",
   "execution_count": 4,
   "metadata": {},
   "outputs": [],
   "source": [
    "def get_freq_colloc_dict(ngrm_lis):\n",
    "    freq_colloc_dict = {'2':{},'3':{},'4':{}}\n",
    "    for ngramm_df in ngrm_lis:\n",
    "        dct = ngramm_df.to_dict(\"split\")\n",
    "        #print(dct['data'][0][1],len(dct['data'][0][1]))\n",
    "        words_len = len(dct['data'][0][1])\n",
    "        for el in dct['data']:\n",
    "            ngramm_raw = ''\n",
    "            for el_i in el[1]:\n",
    "                ngramm_raw += el_i + ' '\n",
    "            ngramm_raw = ngramm_raw.strip()\n",
    "            #print(ngramm_raw,words_len )\n",
    "            freq_colloc_dict[str(words_len)][ngramm_raw] = el[1]\n",
    "        \n",
    "    return freq_colloc_dict\n",
    "ngramms_list =[bigramFreqTable_clean, trigramFreqTable_clean, quadgram_freq_clean]\n",
    "freq_colloc_dict = get_freq_colloc_dict(ngramms_list)"
   ]
  },
  {
   "cell_type": "code",
   "execution_count": 5,
   "metadata": {},
   "outputs": [
    {
     "name": "stdout",
     "output_type": "stream",
     "text": [
      "2\n"
     ]
    },
    {
     "name": "stderr",
     "output_type": "stream",
     "text": [
      "100%|██████████████████████████████████████████████████████████████████████████| 26206/26206 [00:07<00:00, 3643.77it/s]\n"
     ]
    },
    {
     "name": "stdout",
     "output_type": "stream",
     "text": [
      "3\n"
     ]
    },
    {
     "name": "stderr",
     "output_type": "stream",
     "text": [
      "100%|██████████████████████████████████████████████████████████████████████████| 39264/39264 [00:10<00:00, 3605.07it/s]\n"
     ]
    },
    {
     "name": "stdout",
     "output_type": "stream",
     "text": [
      "4\n"
     ]
    },
    {
     "name": "stderr",
     "output_type": "stream",
     "text": [
      "100%|██████████████████████████████████████████████████████████████████████████| 56341/56341 [00:15<00:00, 3680.92it/s]\n"
     ]
    },
    {
     "name": "stdout",
     "output_type": "stream",
     "text": [
      "2\n"
     ]
    },
    {
     "name": "stderr",
     "output_type": "stream",
     "text": [
      "100%|██████████████████████████████████████████████████████████████████████████| 26206/26206 [00:07<00:00, 3732.53it/s]\n"
     ]
    },
    {
     "name": "stdout",
     "output_type": "stream",
     "text": [
      "3\n"
     ]
    },
    {
     "name": "stderr",
     "output_type": "stream",
     "text": [
      "100%|██████████████████████████████████████████████████████████████████████████| 39264/39264 [00:10<00:00, 3691.71it/s]\n"
     ]
    },
    {
     "name": "stdout",
     "output_type": "stream",
     "text": [
      "2\n"
     ]
    },
    {
     "name": "stderr",
     "output_type": "stream",
     "text": [
      "100%|████████████████████████████████████████████████████████████████████████| 142449/142449 [00:38<00:00, 3663.08it/s]\n"
     ]
    },
    {
     "name": "stdout",
     "output_type": "stream",
     "text": [
      "3\n"
     ]
    },
    {
     "name": "stderr",
     "output_type": "stream",
     "text": [
      "100%|████████████████████████████████████████████████████████████████████████| 173858/173858 [00:52<00:00, 3336.50it/s]\n"
     ]
    }
   ],
   "source": [
    "def get_united_numeric_colloc_base (numeric_calc_collocations_list, collocations_by_freq_dict):#все кроме фильтрованных по частям речи\n",
    "    \n",
    "    overall_colloc_json = {'2':{},'3':{},'4':{}}\n",
    "    for colloc in numeric_calc_collocations_list:\n",
    "        colloc_len = len(colloc)\n",
    "        for key in list(colloc.keys()):\n",
    "            if 'gram' in key:\n",
    "                ngramm_name = key\n",
    "            else:\n",
    "                freq_name = key\n",
    "        n_of_words = str(len(colloc.iloc[0][ngramm_name]))\n",
    "        print(n_of_words)\n",
    "        for index in tqdm(range(int(colloc_len))):\n",
    "            collocation_element = colloc.iloc[index][ngramm_name]\n",
    "            str_el = ''\n",
    "            for el in collocation_element:\n",
    "                str_el += el + ' '\n",
    "            str_el = str_el.strip()\n",
    "            if str_el in collocations_by_freq_dict[n_of_words]:\n",
    "                overall_colloc_json[n_of_words][str_el] = collocations_by_freq_dict[n_of_words][str_el] \n",
    "            else:\n",
    "                overall_colloc_json[n_of_words][str_el] = colloc.iloc[index][freq_name]\n",
    "            \"\"\"\n",
    "            if str_el in overall_colloc_json[n_of_words]:\n",
    "                overall_colloc_json[n_of_words][str_el] *= int(colloc.iloc[index][freq_name])\n",
    "            else:\n",
    "                overall_colloc_json[n_of_words][str_el] = int(colloc.iloc[index][freq_name])\n",
    "            \"\"\"\n",
    "            #print(str_el)\n",
    "        #print(\"========\")\n",
    "    return overall_colloc_json\n",
    "#ngramms_list = [bigramFreqTable_clean, trigramFreqTable_clean, quadgram_freq_clean, bigramPMITable, trigramPMITable, quadragramPMITable]\n",
    "ngramms_list = [bigramPMITable, trigramPMITable, quadragramPMITable, bigramChiTable, trigramChiTable,filtered_bi_clean,filtered_tri_clean]\n",
    "\n",
    "log_collocations_vs_freq = get_united_numeric_colloc_base(ngramms_list,freq_colloc_dict)\n",
    "\n",
    "with open (\"football_lenta_smart_colloc_freq.json\",\"w\", encoding = \"utf-8\") as f:\n",
    "    json.dump(log_collocations_vs_freq, f, indent = 4, ensure_ascii = False)"
   ]
  },
  {
   "cell_type": "code",
   "execution_count": null,
   "metadata": {},
   "outputs": [],
   "source": []
  },
  {
   "cell_type": "code",
   "execution_count": null,
   "metadata": {},
   "outputs": [],
   "source": []
  }
 ],
 "metadata": {
  "kernelspec": {
   "display_name": "Python 3",
   "language": "python",
   "name": "python3"
  },
  "language_info": {
   "codemirror_mode": {
    "name": "ipython",
    "version": 3
   },
   "file_extension": ".py",
   "mimetype": "text/x-python",
   "name": "python",
   "nbconvert_exporter": "python",
   "pygments_lexer": "ipython3",
   "version": "3.6.4"
  }
 },
 "nbformat": 4,
 "nbformat_minor": 2
}
