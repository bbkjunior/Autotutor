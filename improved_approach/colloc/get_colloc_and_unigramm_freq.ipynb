{
 "cells": [
  {
   "cell_type": "code",
   "execution_count": 1,
   "metadata": {},
   "outputs": [],
   "source": [
    "from calculate_colocations import get_pos_filtered_colloc_from_corpus_list, get_colloc_from_corpus_list,get_clean_lemm_list\n",
    "import pandas as pd\n",
    "from tqdm import tqdm\n",
    "import json"
   ]
  },
  {
   "cell_type": "code",
   "execution_count": 3,
   "metadata": {},
   "outputs": [
    {
     "data": {
      "text/html": [
       "<div>\n",
       "<style scoped>\n",
       "    .dataframe tbody tr th:only-of-type {\n",
       "        vertical-align: middle;\n",
       "    }\n",
       "\n",
       "    .dataframe tbody tr th {\n",
       "        vertical-align: top;\n",
       "    }\n",
       "\n",
       "    .dataframe thead th {\n",
       "        text-align: right;\n",
       "    }\n",
       "</style>\n",
       "<table border=\"1\" class=\"dataframe\">\n",
       "  <thead>\n",
       "    <tr style=\"text-align: right;\">\n",
       "      <th></th>\n",
       "      <th>Unnamed: 0</th>\n",
       "      <th>Unnamed: 0.1</th>\n",
       "      <th>rubric</th>\n",
       "      <th>subrubric</th>\n",
       "      <th>text</th>\n",
       "    </tr>\n",
       "  </thead>\n",
       "  <tbody>\n",
       "    <tr>\n",
       "      <th>0</th>\n",
       "      <td>96629</td>\n",
       "      <td>708383</td>\n",
       "      <td>Культура</td>\n",
       "      <td>Музыка</td>\n",
       "      <td>Расходы на проведение музыкального конкурса «Е...</td>\n",
       "    </tr>\n",
       "    <tr>\n",
       "      <th>1</th>\n",
       "      <td>96630</td>\n",
       "      <td>117735</td>\n",
       "      <td>Культура</td>\n",
       "      <td>Музыка</td>\n",
       "      <td>Певец Евгений Осин не появлялся дома уже три д...</td>\n",
       "    </tr>\n",
       "    <tr>\n",
       "      <th>2</th>\n",
       "      <td>96631</td>\n",
       "      <td>218791</td>\n",
       "      <td>Культура</td>\n",
       "      <td>Музыка</td>\n",
       "      <td>Группа «Ленинград» представила клип на песню «...</td>\n",
       "    </tr>\n",
       "    <tr>\n",
       "      <th>3</th>\n",
       "      <td>96632</td>\n",
       "      <td>702428</td>\n",
       "      <td>Культура</td>\n",
       "      <td>Музыка</td>\n",
       "      <td>Британский музыкант Дэвид Боуи подготовил ряд ...</td>\n",
       "    </tr>\n",
       "    <tr>\n",
       "      <th>4</th>\n",
       "      <td>96633</td>\n",
       "      <td>218777</td>\n",
       "      <td>Культура</td>\n",
       "      <td>Музыка</td>\n",
       "      <td>Пол Маккартни рассказал об источнике вдохновен...</td>\n",
       "    </tr>\n",
       "  </tbody>\n",
       "</table>\n",
       "</div>"
      ],
      "text/plain": [
       "   Unnamed: 0  Unnamed: 0.1    rubric subrubric  \\\n",
       "0       96629        708383  Культура    Музыка   \n",
       "1       96630        117735  Культура    Музыка   \n",
       "2       96631        218791  Культура    Музыка   \n",
       "3       96632        702428  Культура    Музыка   \n",
       "4       96633        218777  Культура    Музыка   \n",
       "\n",
       "                                                text  \n",
       "0  Расходы на проведение музыкального конкурса «Е...  \n",
       "1  Певец Евгений Осин не появлялся дома уже три д...  \n",
       "2  Группа «Ленинград» представила клип на песню «...  \n",
       "3  Британский музыкант Дэвид Боуи подготовил ряд ...  \n",
       "4  Пол Маккартни рассказал об источнике вдохновен...  "
      ]
     },
     "execution_count": 3,
     "metadata": {},
     "output_type": "execute_result"
    }
   ],
   "source": [
    "texts_lenta = pd.read_csv(\"C:/Autotutor/improved_approach/articles/music_lenta.csv\")\n",
    "texts_lenta.head()"
   ]
  },
  {
   "cell_type": "raw",
   "metadata": {},
   "source": [
    "texts_lenta = pd.read_csv(\"3000.csv\")\n",
    "\n",
    "texts_lenta.iloc[0]['texts_3000']"
   ]
  },
  {
   "cell_type": "code",
   "execution_count": 7,
   "metadata": {},
   "outputs": [
    {
     "name": "stderr",
     "output_type": "stream",
     "text": [
      "100%|████████████████████████████████████████████████████████████████████████████████| 100/100 [00:32<00:00,  3.07it/s]\n"
     ]
    }
   ],
   "source": [
    "clean_lemm_list = get_clean_lemm_list(list(texts_lenta['text'][:100]),lang = 'rus')"
   ]
  },
  {
   "cell_type": "code",
   "execution_count": 9,
   "metadata": {},
   "outputs": [
    {
     "data": {
      "text/plain": [
       "Counter({'blue': 3, 'red': 2, 'yellow': 1})"
      ]
     },
     "execution_count": 9,
     "metadata": {},
     "output_type": "execute_result"
    }
   ],
   "source": [
    "from collections import Counter\n",
    "z = ['blue', 'red', 'blue', 'yellow', 'blue', 'red']\n",
    "Counter(z)\n"
   ]
  },
  {
   "cell_type": "code",
   "execution_count": 11,
   "metadata": {},
   "outputs": [
    {
     "data": {
      "text/plain": [
       "33"
      ]
     },
     "execution_count": 11,
     "metadata": {},
     "output_type": "execute_result"
    }
   ],
   "source": [
    "unigramm_freq = Counter(clean_lemm_list)\n",
    "unigramm_freq['музыка']"
   ]
  },
  {
   "cell_type": "code",
   "execution_count": null,
   "metadata": {},
   "outputs": [],
   "source": []
  },
  {
   "cell_type": "code",
   "execution_count": 13,
   "metadata": {},
   "outputs": [],
   "source": [
    "with open (\"unigr_freq.json\",\"w\") as f:\n",
    "    json.dump(unigramm_freq, f, indent = 4, ensure_ascii = False)"
   ]
  },
  {
   "cell_type": "code",
   "execution_count": 14,
   "metadata": {},
   "outputs": [
    {
     "name": "stderr",
     "output_type": "stream",
     "text": [
      "100%|████████████████████████████████████████████████████████████████████████████████| 100/100 [00:32<00:00,  3.12it/s]\n"
     ]
    }
   ],
   "source": [
    "\n",
    "bigramFreqTable, trigramFreqTable, quadgram_freq, filtered_bi, filtered_tri, bigramPMITable, trigramPMITable, quadragramPMITable, bigramChiTable, trigramChiTable =get_pos_filtered_colloc_from_corpus_list(list(texts_lenta['text'][:100]),\"rus\")\n"
   ]
  },
  {
   "cell_type": "code",
   "execution_count": 15,
   "metadata": {},
   "outputs": [
    {
     "name": "stderr",
     "output_type": "stream",
     "text": [
      "100%|██████████████████████████████████████████████████████████████████████████| 14357/14357 [00:03<00:00, 3880.41it/s]\n",
      "100%|██████████████████████████████████████████████████████████████████████████| 17175/17175 [00:04<00:00, 3818.66it/s]\n",
      "100%|██████████████████████████████████████████████████████████████████████████| 17753/17753 [00:04<00:00, 3804.16it/s]\n"
     ]
    }
   ],
   "source": [
    "def cean_pos_tags(df, ngramm_name):\n",
    "    clean_words = []\n",
    "    for i in tqdm(range(len(df))):\n",
    "        posed_ngramm = df.iloc[i][ngramm_name]\n",
    "        clean_ngramm = []\n",
    "        for w in posed_ngramm:\n",
    "            word = w.split(\"_\")[0]\n",
    "            clean_ngramm.append(word)\n",
    "        clean_ngramm = tuple(clean_ngramm)\n",
    "        clean_words.append(clean_ngramm)\n",
    "    \n",
    "    data = { \"ngramm\":clean_words,\"freq\":df['freq']}\n",
    "    clean_df = pd.DataFrame(data) \n",
    "    return clean_df\n",
    "bigramFreqTable_clean = cean_pos_tags(bigramFreqTable,'bigram')\n",
    "trigramFreqTable_clean = cean_pos_tags(trigramFreqTable, \"trigram\")\n",
    "quadgram_freq_clean = cean_pos_tags(quadgram_freq, \"quadgramF\")"
   ]
  },
  {
   "cell_type": "code",
   "execution_count": 19,
   "metadata": {},
   "outputs": [
    {
     "data": {
      "text/html": [
       "<div>\n",
       "<style scoped>\n",
       "    .dataframe tbody tr th:only-of-type {\n",
       "        vertical-align: middle;\n",
       "    }\n",
       "\n",
       "    .dataframe tbody tr th {\n",
       "        vertical-align: top;\n",
       "    }\n",
       "\n",
       "    .dataframe thead th {\n",
       "        text-align: right;\n",
       "    }\n",
       "</style>\n",
       "<table border=\"1\" class=\"dataframe\">\n",
       "  <thead>\n",
       "    <tr style=\"text-align: right;\">\n",
       "      <th></th>\n",
       "      <th>trigram</th>\n",
       "      <th>freq</th>\n",
       "    </tr>\n",
       "  </thead>\n",
       "  <tbody>\n",
       "    <tr>\n",
       "      <th>4559</th>\n",
       "      <td>(звание_NOUN, народный_ADJ, артист_NOUN)</td>\n",
       "      <td>5</td>\n",
       "    </tr>\n",
       "    <tr>\n",
       "      <th>1069</th>\n",
       "      <td>(январь_NOUN, 2013_NUM, год_NOUN)</td>\n",
       "      <td>4</td>\n",
       "    </tr>\n",
       "    <tr>\n",
       "      <th>4</th>\n",
       "      <td>(конкурс_NOUN, евровидение_PROPN, 2017_ADJ)</td>\n",
       "      <td>4</td>\n",
       "    </tr>\n",
       "    <tr>\n",
       "      <th>4540</th>\n",
       "      <td>(луганский_ADJ, народный_ADJ, республика_NOUN)</td>\n",
       "      <td>4</td>\n",
       "    </tr>\n",
       "    <tr>\n",
       "      <th>6017</th>\n",
       "      <td>(самый_ADJ, высокооплачиваемый_ADJ, исполнител...</td>\n",
       "      <td>3</td>\n",
       "    </tr>\n",
       "  </tbody>\n",
       "</table>\n",
       "</div>"
      ],
      "text/plain": [
       "                                                trigram  freq\n",
       "4559           (звание_NOUN, народный_ADJ, артист_NOUN)     5\n",
       "1069                  (январь_NOUN, 2013_NUM, год_NOUN)     4\n",
       "4           (конкурс_NOUN, евровидение_PROPN, 2017_ADJ)     4\n",
       "4540     (луганский_ADJ, народный_ADJ, республика_NOUN)     4\n",
       "6017  (самый_ADJ, высокооплачиваемый_ADJ, исполнител...     3"
      ]
     },
     "execution_count": 19,
     "metadata": {},
     "output_type": "execute_result"
    }
   ],
   "source": [
    "filtered_tri.head()"
   ]
  },
  {
   "cell_type": "code",
   "execution_count": null,
   "metadata": {},
   "outputs": [],
   "source": [
    "filtered_bi_clean = cean_pos_tags(filtered_bi,'bigram')\n",
    "filtered_tri_clean = cean_pos_tags(filtered_tri,'trigram')"
   ]
  },
  {
   "cell_type": "code",
   "execution_count": null,
   "metadata": {},
   "outputs": [],
   "source": [
    "filtered_bi_clean.head()"
   ]
  },
  {
   "cell_type": "code",
   "execution_count": 18,
   "metadata": {},
   "outputs": [
    {
     "name": "stdout",
     "output_type": "stream",
     "text": [
      "[41, ('о', 'это')]\n"
     ]
    },
    {
     "ename": "TypeError",
     "evalue": "object of type 'int' has no len()",
     "output_type": "error",
     "traceback": [
      "\u001b[1;31m---------------------------------------------------------------------------\u001b[0m",
      "\u001b[1;31mTypeError\u001b[0m                                 Traceback (most recent call last)",
      "\u001b[1;32m<ipython-input-18-934fb5c8df73>\u001b[0m in \u001b[0;36m<module>\u001b[1;34m()\u001b[0m\n\u001b[0;32m     16\u001b[0m     \u001b[1;32mreturn\u001b[0m \u001b[0mfreq_colloc_dict\u001b[0m\u001b[1;33m\u001b[0m\u001b[0m\n\u001b[0;32m     17\u001b[0m \u001b[0mngramms_list\u001b[0m \u001b[1;33m=\u001b[0m\u001b[1;33m[\u001b[0m\u001b[0mbigramFreqTable_clean\u001b[0m\u001b[1;33m,\u001b[0m \u001b[0mtrigramFreqTable_clean\u001b[0m\u001b[1;33m,\u001b[0m \u001b[0mquadgram_freq_clean\u001b[0m\u001b[1;33m]\u001b[0m\u001b[1;33m\u001b[0m\u001b[0m\n\u001b[1;32m---> 18\u001b[1;33m \u001b[0mfreq_colloc_dict\u001b[0m \u001b[1;33m=\u001b[0m \u001b[0mget_freq_colloc_dict\u001b[0m\u001b[1;33m(\u001b[0m\u001b[0mngramms_list\u001b[0m\u001b[1;33m)\u001b[0m\u001b[1;33m\u001b[0m\u001b[0m\n\u001b[0m",
      "\u001b[1;32m<ipython-input-18-934fb5c8df73>\u001b[0m in \u001b[0;36mget_freq_colloc_dict\u001b[1;34m(ngrm_lis)\u001b[0m\n\u001b[0;32m      4\u001b[0m         \u001b[0mdct\u001b[0m \u001b[1;33m=\u001b[0m \u001b[0mngramm_df\u001b[0m\u001b[1;33m.\u001b[0m\u001b[0mto_dict\u001b[0m\u001b[1;33m(\u001b[0m\u001b[1;34m\"split\"\u001b[0m\u001b[1;33m)\u001b[0m\u001b[1;33m\u001b[0m\u001b[0m\n\u001b[0;32m      5\u001b[0m         \u001b[0mprint\u001b[0m\u001b[1;33m(\u001b[0m\u001b[0mdct\u001b[0m\u001b[1;33m[\u001b[0m\u001b[1;34m'data'\u001b[0m\u001b[1;33m]\u001b[0m\u001b[1;33m[\u001b[0m\u001b[1;36m0\u001b[0m\u001b[1;33m]\u001b[0m\u001b[1;33m)\u001b[0m\u001b[1;33m\u001b[0m\u001b[0m\n\u001b[1;32m----> 6\u001b[1;33m         \u001b[0mwords_len\u001b[0m \u001b[1;33m=\u001b[0m \u001b[0mlen\u001b[0m\u001b[1;33m(\u001b[0m\u001b[0mdct\u001b[0m\u001b[1;33m[\u001b[0m\u001b[1;34m'data'\u001b[0m\u001b[1;33m]\u001b[0m\u001b[1;33m[\u001b[0m\u001b[1;36m0\u001b[0m\u001b[1;33m]\u001b[0m\u001b[1;33m[\u001b[0m\u001b[1;36m0\u001b[0m\u001b[1;33m]\u001b[0m\u001b[1;33m)\u001b[0m\u001b[1;33m\u001b[0m\u001b[0m\n\u001b[0m\u001b[0;32m      7\u001b[0m         \u001b[1;32mfor\u001b[0m \u001b[0mel\u001b[0m \u001b[1;32min\u001b[0m \u001b[0mdct\u001b[0m\u001b[1;33m[\u001b[0m\u001b[1;34m'data'\u001b[0m\u001b[1;33m]\u001b[0m\u001b[1;33m:\u001b[0m\u001b[1;33m\u001b[0m\u001b[0m\n\u001b[0;32m      8\u001b[0m \u001b[1;33m\u001b[0m\u001b[0m\n",
      "\u001b[1;31mTypeError\u001b[0m: object of type 'int' has no len()"
     ]
    }
   ],
   "source": [
    "def get_freq_colloc_dict(ngrm_lis):\n",
    "    freq_colloc_dict = {'2':{},'3':{},'4':{}}\n",
    "    for ngramm_df in ngrm_lis:\n",
    "        dct = ngramm_df.to_dict(\"split\")\n",
    "        print(dct['data'][0])\n",
    "        words_len = len(dct['data'][0][0])\n",
    "        for el in dct['data']:\n",
    "            \n",
    "            ngramm_raw = ''\n",
    "            for el_i in el[0]:\n",
    "                ngramm_raw += el_i + ' '\n",
    "            ngramm_raw = ngramm_raw.strip()\n",
    "            #print(ngramm_raw,words_len )\n",
    "            freq_colloc_dict[str(words_len)][ngramm_raw] = el[1]\n",
    "        \n",
    "    return freq_colloc_dict\n",
    "ngramms_list =[bigramFreqTable_clean, trigramFreqTable_clean, quadgram_freq_clean]\n",
    "freq_colloc_dict = get_freq_colloc_dict(ngramms_list)"
   ]
  },
  {
   "cell_type": "code",
   "execution_count": null,
   "metadata": {},
   "outputs": [],
   "source": [
    "def get_united_numeric_colloc_base (numeric_calc_collocations_list, collocations_by_freq_dict):#все кроме фильтрованных по частям речи\n",
    "    \n",
    "    overall_colloc_json = {'2':{},'3':{},'4':{}}\n",
    "    for colloc in numeric_calc_collocations_list:\n",
    "        colloc_len = len(colloc)\n",
    "        for key in list(colloc.keys()):\n",
    "            if 'gram' in key:\n",
    "                ngramm_name = key\n",
    "            else:\n",
    "                freq_name = key\n",
    "        n_of_words = str(len(colloc.iloc[0][ngramm_name]))\n",
    "        print(n_of_words)\n",
    "        for index in tqdm(range(int(colloc_len))):\n",
    "            collocation_element = colloc.iloc[index][ngramm_name]\n",
    "            str_el = ''\n",
    "            for el in collocation_element:\n",
    "                str_el += el + ' '\n",
    "            str_el = str_el.strip()\n",
    "            if str_el in collocations_by_freq_dict[n_of_words]:\n",
    "                overall_colloc_json[n_of_words][str_el] = collocations_by_freq_dict[n_of_words][str_el] \n",
    "            else:\n",
    "                overall_colloc_json[n_of_words][str_el] = colloc.iloc[index][freq_name]\n",
    "            \"\"\"\n",
    "            if str_el in overall_colloc_json[n_of_words]:\n",
    "                overall_colloc_json[n_of_words][str_el] *= int(colloc.iloc[index][freq_name])\n",
    "            else:\n",
    "                overall_colloc_json[n_of_words][str_el] = int(colloc.iloc[index][freq_name])\n",
    "            \"\"\"\n",
    "            #print(str_el)\n",
    "        #print(\"========\")\n",
    "    return overall_colloc_json\n",
    "#ngramms_list = [bigramFreqTable_clean, trigramFreqTable_clean, quadgram_freq_clean, bigramPMITable, trigramPMITable, quadragramPMITable]\n",
    "ngramms_list = [bigramPMITable, trigramPMITable, quadragramPMITable, bigramChiTable, trigramChiTable,filtered_bi_clean,filtered_tri_clean]\n",
    "\n",
    "log_collocations_vs_freq = get_united_numeric_colloc_base(ngramms_list,freq_colloc_dict)"
   ]
  },
  {
   "cell_type": "code",
   "execution_count": null,
   "metadata": {},
   "outputs": [],
   "source": []
  },
  {
   "cell_type": "code",
   "execution_count": null,
   "metadata": {},
   "outputs": [],
   "source": [
    "with open (\"smart_colloc_freq.json\",\"w\") as f:\n",
    "    json.dump(log_collocations_vs_freq, f, indent = 4, ensure_ascii = False)"
   ]
  },
  {
   "cell_type": "code",
   "execution_count": 4,
   "metadata": {},
   "outputs": [],
   "source": [
    "import json"
   ]
  },
  {
   "cell_type": "code",
   "execution_count": 5,
   "metadata": {},
   "outputs": [],
   "source": [
    "with open (\"smart_colloc_freq.json\",\"r\") as f:\n",
    "    coll = json.load(f)"
   ]
  }
 ],
 "metadata": {
  "kernelspec": {
   "display_name": "Python 3",
   "language": "python",
   "name": "python3"
  },
  "language_info": {
   "codemirror_mode": {
    "name": "ipython",
    "version": 3
   },
   "file_extension": ".py",
   "mimetype": "text/x-python",
   "name": "python",
   "nbconvert_exporter": "python",
   "pygments_lexer": "ipython3",
   "version": "3.6.4"
  }
 },
 "nbformat": 4,
 "nbformat_minor": 2
}
