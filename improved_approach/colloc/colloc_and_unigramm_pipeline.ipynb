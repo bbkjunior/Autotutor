{
 "cells": [
  {
   "cell_type": "code",
   "execution_count": 1,
   "metadata": {},
   "outputs": [],
   "source": [
    "from calculate_colocations import get_pos_filtered_colloc_from_corpus_list, get_colloc_from_corpus_list,get_clean_lemm_list\n",
    "import pandas as pd\n",
    "from tqdm import tqdm\n",
    "from collections import Counter\n",
    "\n",
    "import json"
   ]
  },
  {
   "cell_type": "code",
   "execution_count": 4,
   "metadata": {},
   "outputs": [
    {
     "data": {
      "text/plain": [
       "'Расходы на проведение музыкального конкурса «Евровидение-2017» в Киеве оказались предельно высокими. Об этом в четверг, 11 мая, пишет украинское издание «Вести». «Украинцев возмутили запредельные гонорары артистов и ведущих шоу, то, что почти все тендеры проводились в сжатые сроки по сокращенной процедуре, а также явно лишние, неоправданные траты в стране, где идет война (речь идет о вооруженном конфликте в Донбассе — прим. «Ленты.ру», а большой части населения не хватает денег даже на оплату коммуналки», — говорится в заметке. По подсчетам газеты, на соревнование было потрачено 870 миллионов гривен (33 миллиона долларов). «Ровно столько закладывали в проект госбюджета Украины 2017 года на дотации государственными угольным шахтам (частичное покрытие разницы в себестоимости угля)», — пишет издание. По мнению авторов, пять миллионов гривен (190 тысяч долларов), потраченные на белое полотно, которым задрапировали «недострой рядом с местом проведения конкурса», «явно можно было бы потратить с большей пользой». Отмечается, что ткань оказалась непригодной после первого дождя. «Евровидение-2017» проходит в Киеве. Первый полуфинал состоялся 9 мая, второй проведут 11 мая. Финал намечен на 13 мая.'"
      ]
     },
     "execution_count": 4,
     "metadata": {},
     "output_type": "execute_result"
    }
   ],
   "source": [
    "texts_lenta = pd.read_csv(\"C://Autotutor//improved_approach//articles//music_lenta.csv\")\n",
    "\n",
    "texts_lenta.iloc[0]['text']"
   ]
  },
  {
   "cell_type": "code",
   "execution_count": 32,
   "metadata": {
    "scrolled": true
   },
   "outputs": [
    {
     "name": "stderr",
     "output_type": "stream",
     "text": [
      "100%|██████████████████████████████████████████████████████████████████████████████| 5099/5099 [53:34<00:00,  1.59it/s]\n"
     ]
    }
   ],
   "source": [
    "clean_lemm_list = get_clean_lemm_list(list(texts_lenta['text']),lang = 'rus')"
   ]
  },
  {
   "cell_type": "code",
   "execution_count": 33,
   "metadata": {},
   "outputs": [
    {
     "data": {
      "text/plain": [
       "'на'"
      ]
     },
     "execution_count": 33,
     "metadata": {},
     "output_type": "execute_result"
    }
   ],
   "source": [
    "clean_lemm_list[1]"
   ]
  },
  {
   "cell_type": "code",
   "execution_count": 34,
   "metadata": {},
   "outputs": [],
   "source": [
    "unigramm_freq = Counter(clean_lemm_list)\n",
    "with open (\"music_unigr_freq.json\",\"w\", encoding = \"utf-8\") as f:\n",
    "    json.dump(unigramm_freq, f, indent = 4, ensure_ascii = False)"
   ]
  },
  {
   "cell_type": "code",
   "execution_count": 5,
   "metadata": {},
   "outputs": [
    {
     "name": "stderr",
     "output_type": "stream",
     "text": [
      "100%|██████████████████████████████████████████████████████████████████████████████| 5099/5099 [45:02<00:00,  1.89it/s]\n"
     ]
    }
   ],
   "source": [
    "bigramFreqTable, trigramFreqTable, quadgram_freq, filtered_bi, filtered_tri, bigramPMITable, trigramPMITable, quadragramPMITable, bigramChiTable, trigramChiTable =get_pos_filtered_colloc_from_corpus_list(list(texts_lenta['text']),\"rus\")\n"
   ]
  },
  {
   "cell_type": "code",
   "execution_count": 11,
   "metadata": {
    "scrolled": true
   },
   "outputs": [
    {
     "name": "stderr",
     "output_type": "stream",
     "text": [
      "100%|████████████████████████████████████████████████████████████████████████| 152966/152966 [00:51<00:00, 2981.62it/s]\n",
      "100%|████████████████████████████████████████████████████████████████████████| 225510/225510 [01:17<00:00, 2915.15it/s]\n",
      "100%|████████████████████████████████████████████████████████████████████████| 208987/208987 [01:11<00:00, 2942.40it/s]\n",
      "100%|████████████████████████████████████████████████████████████████████████| 103948/103948 [00:34<00:00, 3025.70it/s]\n",
      "100%|██████████████████████████████████████████████████████████████████████████| 96474/96474 [00:32<00:00, 2975.70it/s]\n"
     ]
    }
   ],
   "source": [
    "def cean_pos_tags(df, ngramm_name, handle_percent = 1):\n",
    "    clean_words = []\n",
    "    search_range =int(handle_percent * len(df))\n",
    "    for i in tqdm(range(search_range)):\n",
    "        posed_ngramm = df.iloc[i][ngramm_name]\n",
    "        clean_ngramm = []\n",
    "        for w in posed_ngramm:\n",
    "            word = w.split(\"_\")[0]\n",
    "            clean_ngramm.append(word)\n",
    "        clean_ngramm = tuple(clean_ngramm)\n",
    "        clean_words.append(clean_ngramm)\n",
    "    \n",
    "    data = {\"ngramm\":clean_words,\"freq\":df['freq'][:search_range]}\n",
    "    clean_df = pd.DataFrame(data) \n",
    "    return clean_df\n",
    "bigramFreqTable_clean = cean_pos_tags(bigramFreqTable,'bigram', handle_percent = 0.3)\n",
    "trigramFreqTable_clean = cean_pos_tags(trigramFreqTable, \"trigram\", handle_percent = 0.25)\n",
    "quadgram_freq_clean = cean_pos_tags(quadgram_freq, \"quadgramF\", handle_percent = 0.2)\n",
    "filtered_bi_clean = cean_pos_tags(filtered_bi,'bigram')\n",
    "filtered_tri_clean = cean_pos_tags(filtered_tri,'trigram')"
   ]
  },
  {
   "cell_type": "code",
   "execution_count": 12,
   "metadata": {},
   "outputs": [],
   "source": [
    "def get_freq_colloc_dict(ngrm_lis):\n",
    "    freq_colloc_dict = {'2':{},'3':{},'4':{}}\n",
    "    for ngramm_df in ngrm_lis:\n",
    "        dct = ngramm_df.to_dict(\"split\")\n",
    "        #print(dct['data'][0][1],len(dct['data'][0][1]))\n",
    "        words_len = len(dct['data'][0][1])\n",
    "        for el in dct['data']:\n",
    "            ngramm_raw = ''\n",
    "            for el_i in el[1]:\n",
    "                ngramm_raw += el_i + ' '\n",
    "            ngramm_raw = ngramm_raw.strip()\n",
    "            #print(ngramm_raw,words_len )\n",
    "            freq_colloc_dict[str(words_len)][ngramm_raw] = el[1]\n",
    "        \n",
    "    return freq_colloc_dict\n",
    "ngramms_list =[bigramFreqTable_clean, trigramFreqTable_clean, quadgram_freq_clean]\n",
    "freq_colloc_dict = get_freq_colloc_dict(ngramms_list)"
   ]
  },
  {
   "cell_type": "code",
   "execution_count": 27,
   "metadata": {},
   "outputs": [
    {
     "data": {
      "text/html": [
       "<div>\n",
       "<style scoped>\n",
       "    .dataframe tbody tr th:only-of-type {\n",
       "        vertical-align: middle;\n",
       "    }\n",
       "\n",
       "    .dataframe tbody tr th {\n",
       "        vertical-align: top;\n",
       "    }\n",
       "\n",
       "    .dataframe thead th {\n",
       "        text-align: right;\n",
       "    }\n",
       "</style>\n",
       "<table border=\"1\" class=\"dataframe\">\n",
       "  <thead>\n",
       "    <tr style=\"text-align: right;\">\n",
       "      <th></th>\n",
       "      <th>trigram</th>\n",
       "      <th>PMI</th>\n",
       "    </tr>\n",
       "  </thead>\n",
       "  <tbody>\n",
       "    <tr>\n",
       "      <th>0</th>\n",
       "      <td>(бьернберг, катрина, нурберген)</td>\n",
       "      <td>35.156664</td>\n",
       "    </tr>\n",
       "    <tr>\n",
       "      <th>1</th>\n",
       "      <td>(иоакий, бьернберг, катрина)</td>\n",
       "      <td>35.156664</td>\n",
       "    </tr>\n",
       "    <tr>\n",
       "      <th>2</th>\n",
       "      <td>(così, fan, tutte)</td>\n",
       "      <td>34.934272</td>\n",
       "    </tr>\n",
       "    <tr>\n",
       "      <th>3</th>\n",
       "      <td>(джер, jroc, хармон)</td>\n",
       "      <td>34.711879</td>\n",
       "    </tr>\n",
       "    <tr>\n",
       "      <th>4</th>\n",
       "      <td>(аларес, иоакий, бьернберг)</td>\n",
       "      <td>34.282195</td>\n",
       "    </tr>\n",
       "    <tr>\n",
       "      <th>5</th>\n",
       "      <td>(emerson, lake, palmer)</td>\n",
       "      <td>34.256200</td>\n",
       "    </tr>\n",
       "    <tr>\n",
       "      <th>6</th>\n",
       "      <td>(dolla, долларзнак, ign)</td>\n",
       "      <td>34.156664</td>\n",
       "    </tr>\n",
       "    <tr>\n",
       "      <th>7</th>\n",
       "      <td>(ty, dolla, долларзнак)</td>\n",
       "      <td>33.893630</td>\n",
       "    </tr>\n",
       "    <tr>\n",
       "      <th>8</th>\n",
       "      <td>(east, atlanta, santa)</td>\n",
       "      <td>33.863883</td>\n",
       "    </tr>\n",
       "    <tr>\n",
       "      <th>9</th>\n",
       "      <td>(shnurov, sergey, shnurovs)</td>\n",
       "      <td>33.834736</td>\n",
       "    </tr>\n",
       "  </tbody>\n",
       "</table>\n",
       "</div>"
      ],
      "text/plain": [
       "                           trigram        PMI\n",
       "0  (бьернберг, катрина, нурберген)  35.156664\n",
       "1     (иоакий, бьернберг, катрина)  35.156664\n",
       "2               (così, fan, tutte)  34.934272\n",
       "3             (джер, jroc, хармон)  34.711879\n",
       "4      (аларес, иоакий, бьернберг)  34.282195\n",
       "5          (emerson, lake, palmer)  34.256200\n",
       "6         (dolla, долларзнак, ign)  34.156664\n",
       "7          (ty, dolla, долларзнак)  33.893630\n",
       "8           (east, atlanta, santa)  33.863883\n",
       "9      (shnurov, sergey, shnurovs)  33.834736"
      ]
     },
     "execution_count": 27,
     "metadata": {},
     "output_type": "execute_result"
    }
   ],
   "source": [
    "trigramPMITable.head(10)"
   ]
  },
  {
   "cell_type": "code",
   "execution_count": 29,
   "metadata": {
    "scrolled": true
   },
   "outputs": [
    {
     "name": "stdout",
     "output_type": "stream",
     "text": [
      "2\n"
     ]
    },
    {
     "name": "stderr",
     "output_type": "stream",
     "text": [
      "100%|████████████████████████████████████████████████████████████████████████████| 4155/4155 [00:01<00:00, 3050.66it/s]\n"
     ]
    },
    {
     "name": "stdout",
     "output_type": "stream",
     "text": [
      "3\n"
     ]
    },
    {
     "name": "stderr",
     "output_type": "stream",
     "text": [
      "100%|████████████████████████████████████████████████████████████████████████████| 3178/3178 [00:01<00:00, 3032.45it/s]\n"
     ]
    },
    {
     "name": "stdout",
     "output_type": "stream",
     "text": [
      "4\n"
     ]
    },
    {
     "name": "stderr",
     "output_type": "stream",
     "text": [
      "100%|████████████████████████████████████████████████████████████████████████████| 2258/2258 [00:00<00:00, 2894.89it/s]\n"
     ]
    },
    {
     "name": "stdout",
     "output_type": "stream",
     "text": [
      "2\n"
     ]
    },
    {
     "name": "stderr",
     "output_type": "stream",
     "text": [
      "100%|██████████████████████████████████████████████████████████████████████████| 31184/31184 [00:10<00:00, 2840.59it/s]\n"
     ]
    },
    {
     "name": "stdout",
     "output_type": "stream",
     "text": [
      "3\n"
     ]
    },
    {
     "name": "stderr",
     "output_type": "stream",
     "text": [
      "100%|██████████████████████████████████████████████████████████████████████████| 19294/19294 [00:06<00:00, 2922.45it/s]\n"
     ]
    }
   ],
   "source": [
    "def get_united_numeric_colloc_base (numeric_calc_collocations_list, collocations_by_freq_dict):#все кроме фильтрованных по частям речи\n",
    "    \n",
    "    overall_colloc_json = {'2':{},'3':{},'4':{}}\n",
    "    for colloc in numeric_calc_collocations_list:\n",
    "        colloc_len = len(colloc)\n",
    "        for key in list(colloc.keys()):\n",
    "            if 'gram' in key:\n",
    "                ngramm_name = key\n",
    "            else:\n",
    "                freq_name = key\n",
    "        n_of_words = str(len(colloc.iloc[0][ngramm_name]))\n",
    "        if n_of_words == str(2):\n",
    "            search_range = int(colloc_len * 0.3)\n",
    "        elif n_of_words == str(3):\n",
    "            search_range = int(colloc_len * 0.2)\n",
    "        elif n_of_words == str(4):\n",
    "            search_range = int(colloc_len * 0.1)\n",
    "        print(n_of_words)\n",
    "        for index in tqdm(range(search_range)):\n",
    "            collocation_element = colloc.iloc[index][ngramm_name]\n",
    "            str_el = ''\n",
    "            for el in collocation_element:\n",
    "                str_el += el + ' '\n",
    "            str_el = str_el.strip()\n",
    "            if str_el in collocations_by_freq_dict[n_of_words]:\n",
    "                overall_colloc_json[n_of_words][str_el] = collocations_by_freq_dict[n_of_words][str_el] \n",
    "            else:\n",
    "                overall_colloc_json[n_of_words][str_el] = int(colloc.iloc[index][freq_name])\n",
    "            \"\"\"\n",
    "            if str_el in overall_colloc_json[n_of_words]:\n",
    "                overall_colloc_json[n_of_words][str_el] *= int(colloc.iloc[index][freq_name])\n",
    "            else:\n",
    "                overall_colloc_json[n_of_words][str_el] = int(colloc.iloc[index][freq_name])\n",
    "            \"\"\"\n",
    "            #print(str_el)\n",
    "        #print(\"========\")\n",
    "    return overall_colloc_json\n",
    "#ngramms_list = [bigramFreqTable_clean, trigramFreqTable_clean, quadgram_freq_clean, bigramPMITable, trigramPMITable, quadragramPMITable]\n",
    "ngramms_list = [bigramPMITable, trigramPMITable, quadragramPMITable,filtered_bi_clean,filtered_tri_clean]\n",
    "\n",
    "log_collocations_vs_freq = get_united_numeric_colloc_base(ngramms_list,freq_colloc_dict)"
   ]
  },
  {
   "cell_type": "code",
   "execution_count": 30,
   "metadata": {},
   "outputs": [],
   "source": [
    "with open (\"music_smart_colloc_freq.json\",\"w\", encoding = \"utf-8\") as f:\n",
    "    json.dump(log_collocations_vs_freq, f, indent = 4, ensure_ascii = False)"
   ]
  },
  {
   "cell_type": "code",
   "execution_count": null,
   "metadata": {},
   "outputs": [],
   "source": []
  }
 ],
 "metadata": {
  "kernelspec": {
   "display_name": "Python 3",
   "language": "python",
   "name": "python3"
  },
  "language_info": {
   "codemirror_mode": {
    "name": "ipython",
    "version": 3
   },
   "file_extension": ".py",
   "mimetype": "text/x-python",
   "name": "python",
   "nbconvert_exporter": "python",
   "pygments_lexer": "ipython3",
   "version": "3.6.4"
  }
 },
 "nbformat": 4,
 "nbformat_minor": 2
}
