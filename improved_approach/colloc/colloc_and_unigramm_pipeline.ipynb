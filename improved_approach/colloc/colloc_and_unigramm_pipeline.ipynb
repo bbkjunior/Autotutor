{
 "cells": [
  {
   "cell_type": "code",
   "execution_count": 30,
   "metadata": {},
   "outputs": [],
   "source": [
    "from calculate_colocations import get_pos_filtered_colloc_from_corpus_list, get_colloc_from_corpus_list,get_clean_lemm_list\n",
    "import pandas as pd\n",
    "from tqdm import tqdm\n",
    "from collections import Counter\n",
    "\n",
    "import json"
   ]
  },
  {
   "cell_type": "code",
   "execution_count": 31,
   "metadata": {},
   "outputs": [
    {
     "data": {
      "text/plain": [
       "'Расходы на проведение музыкального конкурса «Евровидение-2017» в Киеве оказались предельно высокими. Об этом в четверг, 11 мая, пишет украинское издание «Вести». «Украинцев возмутили запредельные гонорары артистов и ведущих шоу, то, что почти все тендеры проводились в сжатые сроки по сокращенной процедуре, а также явно лишние, неоправданные траты в стране, где идет война (речь идет о вооруженном конфликте в Донбассе — прим. «Ленты.ру», а большой части населения не хватает денег даже на оплату коммуналки», — говорится в заметке. По подсчетам газеты, на соревнование было потрачено 870 миллионов гривен (33 миллиона долларов). «Ровно столько закладывали в проект госбюджета Украины 2017 года на дотации государственными угольным шахтам (частичное покрытие разницы в себестоимости угля)», — пишет издание. По мнению авторов, пять миллионов гривен (190 тысяч долларов), потраченные на белое полотно, которым задрапировали «недострой рядом с местом проведения конкурса», «явно можно было бы потратить с большей пользой». Отмечается, что ткань оказалась непригодной после первого дождя. «Евровидение-2017» проходит в Киеве. Первый полуфинал состоялся 9 мая, второй проведут 11 мая. Финал намечен на 13 мая.'"
      ]
     },
     "execution_count": 31,
     "metadata": {},
     "output_type": "execute_result"
    }
   ],
   "source": [
    "texts_lenta = pd.read_csv(\"music_lenta.csv\")\n",
    "\n",
    "texts_lenta.iloc[0]['text']"
   ]
  },
  {
   "cell_type": "code",
   "execution_count": 32,
   "metadata": {
    "scrolled": true
   },
   "outputs": [
    {
     "name": "stderr",
     "output_type": "stream",
     "text": [
      "100%|██████████████████████████████████████████████████████████████████████████████| 5099/5099 [53:34<00:00,  1.59it/s]\n"
     ]
    }
   ],
   "source": [
    "clean_lemm_list = get_clean_lemm_list(list(texts_lenta['text']),lang = 'rus')"
   ]
  },
  {
   "cell_type": "code",
   "execution_count": 33,
   "metadata": {},
   "outputs": [
    {
     "data": {
      "text/plain": [
       "'на'"
      ]
     },
     "execution_count": 33,
     "metadata": {},
     "output_type": "execute_result"
    }
   ],
   "source": [
    "clean_lemm_list[1]"
   ]
  },
  {
   "cell_type": "code",
   "execution_count": 34,
   "metadata": {},
   "outputs": [],
   "source": [
    "unigramm_freq = Counter(clean_lemm_list)\n",
    "with open (\"music_unigr_freq.json\",\"w\", encoding = \"utf-8\") as f:\n",
    "    json.dump(unigramm_freq, f, indent = 4, ensure_ascii = False)"
   ]
  },
  {
   "cell_type": "code",
   "execution_count": 35,
   "metadata": {},
   "outputs": [
    {
     "name": "stderr",
     "output_type": "stream",
     "text": [
      "100%|██████████████████████████████████████████████████████████████████████████████| 5099/5099 [50:20<00:00,  1.69it/s]\n"
     ]
    }
   ],
   "source": [
    "bigramFreqTable, trigramFreqTable, quadgram_freq, filtered_bi, filtered_tri, bigramPMITable, trigramPMITable, quadragramPMITable, bigramChiTable, trigramChiTable =get_pos_filtered_colloc_from_corpus_list(list(texts_lenta['text']),\"rus\")\n"
   ]
  },
  {
   "cell_type": "code",
   "execution_count": 36,
   "metadata": {},
   "outputs": [
    {
     "name": "stderr",
     "output_type": "stream",
     "text": [
      "100%|████████████████████████████████████████████████████████████████████████| 509887/509887 [03:12<00:00, 2645.57it/s]\n",
      "100%|████████████████████████████████████████████████████████████████████████| 902042/902042 [05:45<00:00, 2608.78it/s]\n",
      "100%|██████████████████████████████████████████████████████████████████████| 1044937/1044937 [06:46<00:00, 2567.61it/s]\n"
     ]
    }
   ],
   "source": [
    "def cean_pos_tags(df, ngramm_name):\n",
    "    clean_words = []\n",
    "    for i in tqdm(range(len(df))):\n",
    "        posed_ngramm = df.iloc[i][ngramm_name]\n",
    "        clean_ngramm = []\n",
    "        for w in posed_ngramm:\n",
    "            word = w.split(\"_\")[0]\n",
    "            clean_ngramm.append(word)\n",
    "        clean_ngramm = tuple(clean_ngramm)\n",
    "        clean_words.append(clean_ngramm)\n",
    "    \n",
    "    data = {\"ngramm\":clean_words,\"freq\":df['freq']}\n",
    "    clean_df = pd.DataFrame(data) \n",
    "    return clean_df\n",
    "bigramFreqTable_clean = cean_pos_tags(bigramFreqTable,'bigram')\n",
    "trigramFreqTable_clean = cean_pos_tags(trigramFreqTable, \"trigram\")\n",
    "quadgram_freq_clean = cean_pos_tags(quadgram_freq, \"quadgramF\")"
   ]
  },
  {
   "cell_type": "code",
   "execution_count": 37,
   "metadata": {},
   "outputs": [
    {
     "name": "stderr",
     "output_type": "stream",
     "text": [
      "100%|████████████████████████████████████████████████████████████████████████| 103948/103948 [00:38<00:00, 2671.07it/s]\n",
      "100%|██████████████████████████████████████████████████████████████████████████| 96474/96474 [00:35<00:00, 2686.75it/s]\n"
     ]
    }
   ],
   "source": [
    "filtered_bi_clean = cean_pos_tags(filtered_bi,'bigram')\n",
    "filtered_tri_clean = cean_pos_tags(filtered_tri,'trigram')"
   ]
  },
  {
   "cell_type": "code",
   "execution_count": 38,
   "metadata": {},
   "outputs": [],
   "source": [
    "def get_freq_colloc_dict(ngrm_lis):\n",
    "    freq_colloc_dict = {'2':{},'3':{},'4':{}}\n",
    "    for ngramm_df in ngrm_lis:\n",
    "        dct = ngramm_df.to_dict(\"split\")\n",
    "        #print(dct['data'][0][1],len(dct['data'][0][1]))\n",
    "        words_len = len(dct['data'][0][1])\n",
    "        for el in dct['data']:\n",
    "            ngramm_raw = ''\n",
    "            for el_i in el[1]:\n",
    "                ngramm_raw += el_i + ' '\n",
    "            ngramm_raw = ngramm_raw.strip()\n",
    "            #print(ngramm_raw,words_len )\n",
    "            freq_colloc_dict[str(words_len)][ngramm_raw] = el[1]\n",
    "        \n",
    "    return freq_colloc_dict\n",
    "ngramms_list =[bigramFreqTable_clean, trigramFreqTable_clean, quadgram_freq_clean]\n",
    "freq_colloc_dict = get_freq_colloc_dict(ngramms_list)"
   ]
  },
  {
   "cell_type": "code",
   "execution_count": 39,
   "metadata": {},
   "outputs": [
    {
     "name": "stdout",
     "output_type": "stream",
     "text": [
      "2\n"
     ]
    },
    {
     "name": "stderr",
     "output_type": "stream",
     "text": [
      "100%|██████████████████████████████████████████████████████████████████████████| 13851/13851 [00:06<00:00, 2285.74it/s]\n"
     ]
    },
    {
     "name": "stdout",
     "output_type": "stream",
     "text": [
      "3\n"
     ]
    },
    {
     "name": "stderr",
     "output_type": "stream",
     "text": [
      "100%|██████████████████████████████████████████████████████████████████████████| 15890/15890 [00:05<00:00, 2719.97it/s]\n"
     ]
    },
    {
     "name": "stdout",
     "output_type": "stream",
     "text": [
      "4\n"
     ]
    },
    {
     "name": "stderr",
     "output_type": "stream",
     "text": [
      "100%|██████████████████████████████████████████████████████████████████████████| 22584/22584 [00:08<00:00, 2600.49it/s]\n"
     ]
    },
    {
     "name": "stdout",
     "output_type": "stream",
     "text": [
      "2\n"
     ]
    },
    {
     "name": "stderr",
     "output_type": "stream",
     "text": [
      "100%|██████████████████████████████████████████████████████████████████████████| 13851/13851 [00:05<00:00, 2748.99it/s]\n"
     ]
    },
    {
     "name": "stdout",
     "output_type": "stream",
     "text": [
      "3\n"
     ]
    },
    {
     "name": "stderr",
     "output_type": "stream",
     "text": [
      "100%|██████████████████████████████████████████████████████████████████████████| 15890/15890 [00:05<00:00, 2684.58it/s]\n"
     ]
    },
    {
     "name": "stdout",
     "output_type": "stream",
     "text": [
      "2\n"
     ]
    },
    {
     "name": "stderr",
     "output_type": "stream",
     "text": [
      "100%|████████████████████████████████████████████████████████████████████████| 103948/103948 [00:39<00:00, 2651.83it/s]\n"
     ]
    },
    {
     "name": "stdout",
     "output_type": "stream",
     "text": [
      "3\n"
     ]
    },
    {
     "name": "stderr",
     "output_type": "stream",
     "text": [
      "100%|██████████████████████████████████████████████████████████████████████████| 96474/96474 [00:37<00:00, 2586.46it/s]\n"
     ]
    }
   ],
   "source": [
    "def get_united_numeric_colloc_base (numeric_calc_collocations_list, collocations_by_freq_dict):#все кроме фильтрованных по частям речи\n",
    "    \n",
    "    overall_colloc_json = {'2':{},'3':{},'4':{}}\n",
    "    for colloc in numeric_calc_collocations_list:\n",
    "        colloc_len = len(colloc)\n",
    "        for key in list(colloc.keys()):\n",
    "            if 'gram' in key:\n",
    "                ngramm_name = key\n",
    "            else:\n",
    "                freq_name = key\n",
    "        n_of_words = str(len(colloc.iloc[0][ngramm_name]))\n",
    "        print(n_of_words)\n",
    "        for index in tqdm(range(int(colloc_len))):\n",
    "            collocation_element = colloc.iloc[index][ngramm_name]\n",
    "            str_el = ''\n",
    "            for el in collocation_element:\n",
    "                str_el += el + ' '\n",
    "            str_el = str_el.strip()\n",
    "            if str_el in collocations_by_freq_dict[n_of_words]:\n",
    "                overall_colloc_json[n_of_words][str_el] = collocations_by_freq_dict[n_of_words][str_el] \n",
    "            else:\n",
    "                overall_colloc_json[n_of_words][str_el] = colloc.iloc[index][freq_name]\n",
    "            \"\"\"\n",
    "            if str_el in overall_colloc_json[n_of_words]:\n",
    "                overall_colloc_json[n_of_words][str_el] *= int(colloc.iloc[index][freq_name])\n",
    "            else:\n",
    "                overall_colloc_json[n_of_words][str_el] = int(colloc.iloc[index][freq_name])\n",
    "            \"\"\"\n",
    "            #print(str_el)\n",
    "        #print(\"========\")\n",
    "    return overall_colloc_json\n",
    "#ngramms_list = [bigramFreqTable_clean, trigramFreqTable_clean, quadgram_freq_clean, bigramPMITable, trigramPMITable, quadragramPMITable]\n",
    "ngramms_list = [bigramPMITable, trigramPMITable, quadragramPMITable, bigramChiTable, trigramChiTable,filtered_bi_clean,filtered_tri_clean]\n",
    "\n",
    "log_collocations_vs_freq = get_united_numeric_colloc_base(ngramms_list,freq_colloc_dict)"
   ]
  },
  {
   "cell_type": "code",
   "execution_count": 40,
   "metadata": {},
   "outputs": [],
   "source": [
    "with open (\"music_smart_colloc_freq.json\",\"w\", encoding = \"utf-8\") as f:\n",
    "    json.dump(log_collocations_vs_freq, f, indent = 4, ensure_ascii = False)"
   ]
  },
  {
   "cell_type": "code",
   "execution_count": null,
   "metadata": {},
   "outputs": [],
   "source": []
  }
 ],
 "metadata": {
  "kernelspec": {
   "display_name": "Python 3",
   "language": "python",
   "name": "python3"
  },
  "language_info": {
   "codemirror_mode": {
    "name": "ipython",
    "version": 3
   },
   "file_extension": ".py",
   "mimetype": "text/x-python",
   "name": "python",
   "nbconvert_exporter": "python",
   "pygments_lexer": "ipython3",
   "version": "3.6.4"
  }
 },
 "nbformat": 4,
 "nbformat_minor": 2
}
