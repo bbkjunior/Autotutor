{
 "cells": [
  {
   "cell_type": "code",
   "execution_count": 6,
   "metadata": {},
   "outputs": [
    {
     "name": "stdout",
     "output_type": "stream",
     "text": [
      "\u001b[31mhello\u001b[0m \u001b[32mworld\u001b[0m\n"
     ]
    }
   ],
   "source": [
    "from termcolor import colored\n",
    "\n",
    "print(colored('hello', 'red'), colored('world', 'green'))"
   ]
  },
  {
   "cell_type": "code",
   "execution_count": 5,
   "metadata": {},
   "outputs": [
    {
     "name": "stdout",
     "output_type": "stream",
     "text": [
      "\u001b[1;31mhello\u001b[1;m\n"
     ]
    }
   ],
   "source": [
    "def colourise(colour, text):\n",
    "    if colour == \"black\":\n",
    "        return \"\\033[1;30m\" + str(text) + \"\\033[1;m\"\n",
    "    if colour == \"red\":\n",
    "        return \"\\033[1;31m\" + str(text) + \"\\033[1;m\"\n",
    "    if colour == \"green\":\n",
    "        return \"\\033[1;32m\" + str(text) + \"\\033[1;m\"\n",
    "    if colour == \"yellow\":\n",
    "        return \"\\033[1;33m\" + str(text) + \"\\033[1;m\"\n",
    "    if colour == \"blue\":\n",
    "        return \"\\033[1;34m\" + str(text) + \"\\033[1;m\"\n",
    "    if colour == \"magenta\":\n",
    "        return \"\\033[1;35m\" + str(text) + \"\\033[1;m\"\n",
    "    if colour == \"cyan\":\n",
    "        return \"\\033[1;36m\" + str(text) + \"\\033[1;m\"\n",
    "    if colour == \"gray\":\n",
    "        return \"\\033[1;37m\" + str(text) + \"\\033[1;m\"\n",
    "    return str(text)\n",
    "text_col = colourise('red', 'hello')\n",
    "print(text_col)"
   ]
  },
  {
   "cell_type": "code",
   "execution_count": 4,
   "metadata": {},
   "outputs": [
    {
     "name": "stdout",
     "output_type": "stream",
     "text": [
      "\u001b[1;31mhello\u001b[1;m\n"
     ]
    }
   ],
   "source": [
    "text_col = colourise('red', 'hello')\n",
    "print(text_col)"
   ]
  }
 ],
 "metadata": {
  "kernelspec": {
   "display_name": "Python 3",
   "language": "python",
   "name": "python3"
  },
  "language_info": {
   "codemirror_mode": {
    "name": "ipython",
    "version": 3
   },
   "file_extension": ".py",
   "mimetype": "text/x-python",
   "name": "python",
   "nbconvert_exporter": "python",
   "pygments_lexer": "ipython3",
   "version": "3.6.4"
  }
 },
 "nbformat": 4,
 "nbformat_minor": 2
}
