{
 "cells": [
  {
   "cell_type": "code",
   "execution_count": 39,
   "metadata": {},
   "outputs": [
    {
     "name": "stdout",
     "output_type": "stream",
     "text": [
      "7.59\n"
     ]
    }
   ],
   "source": [
    "import json\n",
    "import pandas as pd\n",
    "import statistics\n",
    "\n",
    "spiList = [5.55, 5.72, 7.3, 7.75, 8.4, 9, 8.8, 8.2]\n",
    "print(statistics.mean(spiList))\n",
    "\n",
    "import numpy as np\n",
    "from sklearn.metrics.pairwise import cosine_similarity\n",
    "import operator\n"
   ]
  },
  {
   "cell_type": "code",
   "execution_count": 23,
   "metadata": {},
   "outputs": [],
   "source": [
    "from gensim.models.keyedvectors import FastTextKeyedVectors\n",
    "fasttext = FastTextKeyedVectors.load(\"D:/fasttext_word2vec/araneum_none_fasttextcbow_300_5_2018/araneum_none_fasttextcbow_300_5_2018.model\")\n"
   ]
  },
  {
   "cell_type": "code",
   "execution_count": null,
   "metadata": {},
   "outputs": [],
   "source": [
    "НЕПОНЯТНЫЕ ПРБЛЕМЫ С ВЕКТОРОМ ЧАСТОТНОСТЕЙ"
   ]
  },
  {
   "cell_type": "code",
   "execution_count": 37,
   "metadata": {},
   "outputs": [],
   "source": [
    "with open (\"lyashevskaya_freq_dict.json\" , \"r\", encoding=\"utf-8\") as f:\n",
    "    lyashevskaya_freq_dict = json.load(f)\n",
    "    \n",
    "with open (\"C:\\Autotutor\\improved_approach\\colloc\\music_unigr_freq.json\", \"r\", encoding='utf-8') as f:\n",
    "    colloc_db = json.load(f)\n",
    "    \n",
    "    \n",
    "with open (\"D:\\input\\music_smart_colloc_freq.json\", \"r\", encoding='utf-8') as f:\n",
    "    unigramm_db = json.load(f)\n",
    "    \n",
    "words_indexed_dict = []\n",
    "with open(\"big_musiciancolloc_lit.txt\", \"r\", encoding = \"utf-8\") as f:\n",
    "    for line in f.readlines():\n",
    "        words_indexed_dict.append(line[:-1])"
   ]
  },
  {
   "cell_type": "code",
   "execution_count": 10,
   "metadata": {},
   "outputs": [],
   "source": [
    "USER_NAME = 'big_musician'"
   ]
  },
  {
   "cell_type": "code",
   "execution_count": 13,
   "metadata": {},
   "outputs": [],
   "source": [
    "\n",
    "marked_word_db = pd.read_csv(USER_NAME +  \"_word_db.csv\",header = None)"
   ]
  },
  {
   "cell_type": "code",
   "execution_count": 29,
   "metadata": {},
   "outputs": [],
   "source": [
    "def get_vector(ngramm):\n",
    "    ngramm_lemmas_list = ngramm.split()\n",
    "    freq_list = []\n",
    "    local_corpora_freq_list = []\n",
    "    w2v_list = []\n",
    "    for lemma in ngramm_lemmas_list:\n",
    "        try:\n",
    "            w2v = fasttext[lemma]\n",
    "            w2v_list.append(w2v)\n",
    "        except:\n",
    "            pass\n",
    "        if lemma in lyashevskaya_freq_dict:\n",
    "            freq_list.append(lyashevskaya_freq_dict[lemma])\n",
    "        else:\n",
    "            freq_list.append(0)\n",
    "        if lemma in unigramm_db:\n",
    "            local_corpora_freq_list.append(unigramm_db[lemma])\n",
    "        else:\n",
    "            local_corpora_freq_list.append(0)\n",
    "    colleted_w2v_count = len(w2v_list)\n",
    "    if colleted_w2v_count > 0:\n",
    "        vect_sum = 300 * [0]\n",
    "        for w2v in w2v_list:\n",
    "            vect_sum += w2v\n",
    "        vect_sum /=  colleted_w2v_count\n",
    "    else:\n",
    "        print(ngramm_lemmas_list, \"none in fasttext\")\n",
    "        vect_sum = None\n",
    "    freq_mean = statistics.mean(freq_list)\n",
    "    local_corpora_mean = statistics.mean(local_corpora_freq_list)\n",
    "    \n",
    "    return (local_corpora_mean,freq_mean, vect_sum)"
   ]
  },
  {
   "cell_type": "code",
   "execution_count": 51,
   "metadata": {},
   "outputs": [],
   "source": [
    "list_of_all_words_similarity = []\n",
    "with open(\"big_musiciancolloc_lit.txt\", 'r', encoding = 'utf-8') as f:\n",
    "    for colloc_word in f.readlines():\n",
    "        current_word_similarity = []\n",
    "        #print(colloc[1][0])\n",
    "        colloc_word_vector = get_vector(colloc_word[:-1])\n",
    "        freq_vec = np.array([colloc_word_vector[0], colloc_word_vector[1]]).reshape(1,-1)\n",
    "        colloc_w2v = np.array(colloc_word_vector[2]).reshape(1,-1)\n",
    "        for db_word_index in range(len(marked_word_db)):\n",
    "            compared_raw_word_vect = marked_word_db.iloc[db_word_index][:-1]\n",
    "\n",
    "            comp_word2vec = compared_raw_word_vect[2:]\n",
    "            #print(db_word_index, len(comp_word2vec))\n",
    "            comp_colloc_w2v = np.array(comp_word2vec).reshape(1,-1)\n",
    "            w2v_sim = cosine_similarity(colloc_w2v,comp_colloc_w2v)\n",
    "            #print(\"w2v\", sim)\n",
    "\n",
    "\n",
    "            comp_freq_vec = np.array([compared_raw_word_vect[1], compared_raw_word_vect[0]]).reshape(1,-1)\n",
    "            sim_freq = cosine_similarity(freq_vec,comp_freq_vec)\n",
    "            #print(\"freq\", sim_freq)\n",
    "\n",
    "            w2v_sim = w2v_sim[0][0]\n",
    "            sim_freq = sim_freq[0][0]\n",
    "\n",
    "            average_similarity = w2v_sim*0.8 + sim_freq*0.2\n",
    "\n",
    "            word_comp_json = {\"colloc_db_index\":db_word_index, \"sim_colloc\":words_indexed_dict[db_word_index],\"w2v_sim\":w2v_sim,\"freqence_similarity\":sim_freq}\n",
    "            if average_similarity> 0.6 and w2v_sim > 0.65:\n",
    "                current_word_similarity.append((word_comp_json,average_similarity))\n",
    "        current_word_similarity.sort(key = operator.itemgetter(1), reverse= True)\n",
    "        list_of_all_words_similarity.append((colloc_word[:-1],current_word_similarity[:5]))\n",
    "        break"
   ]
  },
  {
   "cell_type": "code",
   "execution_count": 52,
   "metadata": {},
   "outputs": [],
   "source": [
    "with open (\"big_musician_colloc_similairities.json\", 'w') as f:\n",
    "    json.dump(list_of_all_words_similarity, f , indent = 4, ensure_ascii=False)"
   ]
  }
 ],
 "metadata": {
  "kernelspec": {
   "display_name": "Python 3",
   "language": "python",
   "name": "python3"
  },
  "language_info": {
   "codemirror_mode": {
    "name": "ipython",
    "version": 3
   },
   "file_extension": ".py",
   "mimetype": "text/x-python",
   "name": "python",
   "nbconvert_exporter": "python",
   "pygments_lexer": "ipython3",
   "version": "3.6.4"
  }
 },
 "nbformat": 4,
 "nbformat_minor": 2
}
