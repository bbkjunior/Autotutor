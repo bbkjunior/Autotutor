{
 "cells": [
  {
   "cell_type": "code",
   "execution_count": 15,
   "metadata": {},
   "outputs": [],
   "source": []
  },
  {
   "cell_type": "code",
   "execution_count": 1,
   "metadata": {},
   "outputs": [],
   "source": [
    "from ud_class import Model\n",
    "from sklearn.feature_extraction.text import TfidfVectorizer\n",
    "import pandas as pd\n",
    "import re\n",
    "import pymorphy2\n",
    "from tqdm import tqdm\n",
    "import operator\n",
    "from sklearn.metrics import *\n",
    "\n",
    "import matplotlib.pyplot as plt\n",
    "\n",
    "from string import punctuation\n",
    "full_punctuation = punctuation + \"–\" + \",\" + \"»\" + \"«\" + \"…\" +'’'"
   ]
  },
  {
   "cell_type": "code",
   "execution_count": 2,
   "metadata": {},
   "outputs": [],
   "source": [
    "model = Model('./colloc/russian-syntagrus-ud-2.0-170801.udpipe')\n"
   ]
  },
  {
   "cell_type": "code",
   "execution_count": 3,
   "metadata": {},
   "outputs": [
    {
     "data": {
      "text/plain": [
       "'Указом президента России Бориса Ельцина внесены изменения в  существующую структуру Федеральной службы безопасности РФ, утвержденную в июле прошлого года. Как говорится в поступившем сегодня сообщении Центра общественных связей ФСБ, в соответствии с Основами (Концепцией) государственной политики Российской Федерации по военномустроительству на период до 2005 года, на базе Департамента по борьбе с терроризмом и Управления конституционной безопасности ФСБ создан Департамент по защите конституционного строя и борьбе с терроризмом. В составе департамента организуются три управления с четко определенной компетенцией. В ФСБ отмечают, что \"в современных условиях для российскойгосударственности имеют приоритетное значение вопросы защитыконституционного строя, сохранения целостности страны, борьбыс терроризмом и всеми формами экстремизма, а также разведывательно-подрывной деятельностью спецслужб и организаций иностранных государств\". Как подчеркивается в сообщении, \"органам безопасности в решении данных проблем отведена особая роль\".'"
      ]
     },
     "execution_count": 3,
     "metadata": {},
     "output_type": "execute_result"
    }
   ],
   "source": [
    "texts_lenta = pd.read_csv(\"./colloc/3000.csv\")\n",
    "\n",
    "texts_lenta.iloc[0]['texts_3000']"
   ]
  },
  {
   "cell_type": "code",
   "execution_count": 4,
   "metadata": {},
   "outputs": [],
   "source": [
    "def get_conllu_from_unite_line_text(text, model):\n",
    "    sentences = model.tokenize(text)\n",
    "    for s in sentences:\n",
    "        model.tag(s)\n",
    "        model.parse(s)\n",
    "    conllu = model.write(sentences, \"conllu\")\n",
    "    return conllu\n",
    "    \n",
    "def get_conllu_text_map(conllu_parsed_object):\n",
    "    conllu_text_map = []\n",
    "    conllu_sentence_map = []\n",
    "    for line in conllu_parsed_object.split('\\n'):\n",
    "        if line:\n",
    "            if line[0].isdigit():\n",
    "                #print(line.split('\\t'))\n",
    "                conllu_sentence_map.append(line.split('\\t'))\n",
    "            else:\n",
    "                if(len(conllu_sentence_map) > 0):\n",
    "                    conllu_text_map.append(conllu_sentence_map)\n",
    "                    conllu_sentence_map = []   \n",
    "                    #print(\"appended\")\n",
    "    if(len(conllu_sentence_map) > 0):\n",
    "        conllu_text_map.append(conllu_sentence_map)\n",
    "    return conllu_text_map\n",
    "    \n",
    "def get_lemm_and_orig_text_from_udmap(conllu_map):\n",
    "    lemm_sentences_list = []\n",
    "    sentences_list = []\n",
    "    for sentence in conllu_map:\n",
    "        lemm_line = ''\n",
    "        line = ''\n",
    "        for word in sentence: \n",
    "            if (word[3] != 'PUNCT'):\n",
    "                #print(word[2])\n",
    "                clean_lemma = ''\n",
    "                for char in word[2]:\n",
    "                    if char not in full_punctuation:\n",
    "                        clean_lemma += char.lower()\n",
    "                lemm_line += clean_lemma + ' '\n",
    "                line += word[1] + ' '\n",
    "        \n",
    "        lemm_sentences_list.append(lemm_line.strip())\n",
    "        sentences_list.append(line.strip())\n",
    "        #print()\n",
    "    return lemm_sentences_list, sentences_list"
   ]
  },
  {
   "cell_type": "code",
   "execution_count": 5,
   "metadata": {},
   "outputs": [
    {
     "data": {
      "text/plain": [
       "'указ президент россия борис ельцин вносить изменение в существовать структура федеральный служба безопасность рф утверждать в июль прошлый год как говорить в поступивать сегодня сообщение центр общественный связь фсб в соответствие с основа концепция государственный политика российский федерация по военномустроительство на период до 2005 год на база департамент по борьба с терроризм и управление конституционный безопасность фсб создавать департамент по защита конституционный строй и борьба с терроризм в состав департамент организовывать три управление с четко определять компетенция в фсб отмечать что в современный условие для российскойгосударственность иметь приоритетный значение вопрос защитыконституционный строй сохранение целостность страна борьбысяча терроризм и весь форма экстремизм а также разведывательно подрывной деятельность спецслужба и организация иностранный государство как подчеркивать в сообщение орган безопасность в решение данные проблема отводить особый роль'"
      ]
     },
     "execution_count": 5,
     "metadata": {},
     "output_type": "execute_result"
    }
   ],
   "source": [
    "def ud_lemmatize(text, model):\n",
    "    conllu = get_conllu_from_unite_line_text(text, model)\n",
    "    conllu_text_map = get_conllu_text_map(conllu)\n",
    "    lemm_sent, sentences_list = get_lemm_and_orig_text_from_udmap(conllu_text_map)\n",
    "    lemm_sent_string = ''\n",
    "    for l_s in lemm_sent:\n",
    "        lemm_sent_string += l_s + ' '\n",
    "    lemm_sent_string = lemm_sent_string.strip()\n",
    "    #print(lemm_sent_string)\n",
    "    return lemm_sent_string\n",
    "ud_lemmatize(texts_lenta.iloc[0]['texts_3000'], model)"
   ]
  },
  {
   "cell_type": "code",
   "execution_count": 3,
   "metadata": {},
   "outputs": [],
   "source": [
    "def lemmatize(split_text,morph):\n",
    "    \"\"\"\n",
    "    составляем словарь лемматизированных существительных и словарь всех лемм \n",
    "    \"\"\"\n",
    "    lemm_split_text = []\n",
    "    for word in split_text:\n",
    "        clean_word = ''\n",
    "        for char in word:\n",
    "            if char not in full_punctuation:\n",
    "                clean_word += char.lower()\n",
    "        parsed_word = morph.parse(clean_word)[0]\n",
    "        lemma = parsed_word.normal_form\n",
    "        lemm_split_text.append(lemma)\n",
    "    lemm_split_text = ' '.join(lemm_split_text)\n",
    "    return lemm_split_text"
   ]
  },
  {
   "cell_type": "code",
   "execution_count": 6,
   "metadata": {},
   "outputs": [
    {
     "name": "stderr",
     "output_type": "stream",
     "text": [
      "100%|██████████████████████████████████████████| 898/898 [05:33<00:00,  2.69it/s]\n"
     ]
    }
   ],
   "source": [
    "processed_lemm_text = []\n",
    "for ind in tqdm(range(len(texts_lenta))):\n",
    "    lemm_split_text = ud_lemmatize(texts_lenta.iloc[ind]['texts_3000'], model)\n",
    "    processed_lemm_text.append(lemm_split_text)"
   ]
  },
  {
   "cell_type": "raw",
   "metadata": {},
   "source": [
    "morph = pymorphy2.MorphAnalyzer()\n",
    "processed_lemm_text = []\n",
    "for ind in tqdm(range(len(texts_lenta))):\n",
    "    lemm_split_text = lemmatize(list(texts_lenta.iloc[ind]['texts_3000'].split()), morph)\n",
    "    processed_lemm_text.append(lemm_split_text)"
   ]
  },
  {
   "cell_type": "code",
   "execution_count": 24,
   "metadata": {},
   "outputs": [
    {
     "data": {
      "text/plain": [
       "'указ президент россия борис ельцин вносить изменение в существовать структура федеральный служба безопасность рф утверждать в июль прошлый год как говорить в поступивать сегодня сообщение центр общественный связь фсб в соответствие с основа концепция государственный политика российский федерация по военномустроительство на период до 2005 год на база департамент по борьба с терроризм и управление конституционный безопасность фсб создавать департамент по защита конституционный строй и борьба с терроризм в состав департамент организовывать три управление с четко определять компетенция в фсб отмечать что в современный условие для российскойгосударственность иметь приоритетный значение вопрос защитыконституционный строй сохранение целостность страна борьбысяча терроризм и весь форма экстремизм а также разведывательно подрывной деятельность спецслужба и организация иностранный государство как подчеркивать в сообщение орган безопасность в решение данные проблема отводить особый роль'"
      ]
     },
     "execution_count": 24,
     "metadata": {},
     "output_type": "execute_result"
    }
   ],
   "source": [
    "processed_lemm_text[0]"
   ]
  },
  {
   "cell_type": "code",
   "execution_count": 9,
   "metadata": {},
   "outputs": [],
   "source": [
    "def get_tf_idf_dict(lemm_text_list, save_to_csv = False):\n",
    "    vect = TfidfVectorizer(ngram_range = (2,4))#stop_words = russian_stopwords\n",
    "    tfidf_matrix = vect.fit_transform(lemm_text_list)\n",
    "    df = pd.DataFrame(tfidf_matrix.toarray(), columns = vect.get_feature_names())\n",
    "    #print(df.head())\n",
    "    if (save_to_csv): df.to_csv(\"./text_0_tfidf.csv\", sep = '\\t')\n",
    "    tf_idf_dict = df.to_dict()\n",
    "    return tf_idf_dict"
   ]
  },
  {
   "cell_type": "code",
   "execution_count": 7,
   "metadata": {},
   "outputs": [],
   "source": [
    "import pandas as pd"
   ]
  },
  {
   "cell_type": "code",
   "execution_count": null,
   "metadata": {
    "scrolled": true
   },
   "outputs": [],
   "source": [
    "tfidf_dct = pd.read_csv(\"text_0_tfidf.csv\", sep = \"\\t\")\n",
    "tfidf_dct.head()"
   ]
  },
  {
   "cell_type": "code",
   "execution_count": 8,
   "metadata": {},
   "outputs": [
    {
     "ename": "MemoryError",
     "evalue": "",
     "output_type": "error",
     "traceback": [
      "\u001b[1;31m---------------------------------------------------------------------------\u001b[0m",
      "\u001b[1;31mMemoryError\u001b[0m                               Traceback (most recent call last)",
      "\u001b[1;32m<ipython-input-8-44fa9d9bd059>\u001b[0m in \u001b[0;36m<module>\u001b[1;34m()\u001b[0m\n\u001b[1;32m----> 1\u001b[1;33m \u001b[0mdct\u001b[0m \u001b[1;33m=\u001b[0m \u001b[0mget_tf_idf_dict\u001b[0m\u001b[1;33m(\u001b[0m\u001b[0mprocessed_lemm_text\u001b[0m\u001b[1;33m,\u001b[0m\u001b[0msave_to_csv\u001b[0m \u001b[1;33m=\u001b[0m \u001b[1;32mTrue\u001b[0m \u001b[1;33m)\u001b[0m\u001b[1;33m\u001b[0m\u001b[0m\n\u001b[0m",
      "\u001b[1;32m<ipython-input-7-a26e5c776dad>\u001b[0m in \u001b[0;36mget_tf_idf_dict\u001b[1;34m(lemm_text_list, save_to_csv)\u001b[0m\n\u001b[0;32m      5\u001b[0m     \u001b[1;31m#print(df.head())\u001b[0m\u001b[1;33m\u001b[0m\u001b[1;33m\u001b[0m\u001b[0m\n\u001b[0;32m      6\u001b[0m     \u001b[1;32mif\u001b[0m \u001b[1;33m(\u001b[0m\u001b[0msave_to_csv\u001b[0m\u001b[1;33m)\u001b[0m\u001b[1;33m:\u001b[0m \u001b[0mdf\u001b[0m\u001b[1;33m.\u001b[0m\u001b[0mto_csv\u001b[0m\u001b[1;33m(\u001b[0m\u001b[1;34m\"./text_0_tfidf.csv\"\u001b[0m\u001b[1;33m,\u001b[0m \u001b[0msep\u001b[0m \u001b[1;33m=\u001b[0m \u001b[1;34m'\\t'\u001b[0m\u001b[1;33m)\u001b[0m\u001b[1;33m\u001b[0m\u001b[0m\n\u001b[1;32m----> 7\u001b[1;33m     \u001b[0mtf_idf_dict\u001b[0m \u001b[1;33m=\u001b[0m \u001b[0mdf\u001b[0m\u001b[1;33m.\u001b[0m\u001b[0mto_dict\u001b[0m\u001b[1;33m(\u001b[0m\u001b[1;33m)\u001b[0m\u001b[1;33m\u001b[0m\u001b[0m\n\u001b[0m\u001b[0;32m      8\u001b[0m     \u001b[1;32mreturn\u001b[0m \u001b[0mtf_idf_dict\u001b[0m\u001b[1;33m\u001b[0m\u001b[0m\n",
      "\u001b[1;32m~\\Anaconda3\\lib\\site-packages\\pandas\\core\\frame.py\u001b[0m in \u001b[0;36mto_dict\u001b[1;34m(self, orient, into)\u001b[0m\n\u001b[0;32m    984\u001b[0m         \u001b[1;32mif\u001b[0m \u001b[0morient\u001b[0m\u001b[1;33m.\u001b[0m\u001b[0mlower\u001b[0m\u001b[1;33m(\u001b[0m\u001b[1;33m)\u001b[0m\u001b[1;33m.\u001b[0m\u001b[0mstartswith\u001b[0m\u001b[1;33m(\u001b[0m\u001b[1;34m'd'\u001b[0m\u001b[1;33m)\u001b[0m\u001b[1;33m:\u001b[0m\u001b[1;33m\u001b[0m\u001b[0m\n\u001b[0;32m    985\u001b[0m             return into_c(\n\u001b[1;32m--> 986\u001b[1;33m                 (k, v.to_dict(into)) for k, v in compat.iteritems(self))\n\u001b[0m\u001b[0;32m    987\u001b[0m         \u001b[1;32melif\u001b[0m \u001b[0morient\u001b[0m\u001b[1;33m.\u001b[0m\u001b[0mlower\u001b[0m\u001b[1;33m(\u001b[0m\u001b[1;33m)\u001b[0m\u001b[1;33m.\u001b[0m\u001b[0mstartswith\u001b[0m\u001b[1;33m(\u001b[0m\u001b[1;34m'l'\u001b[0m\u001b[1;33m)\u001b[0m\u001b[1;33m:\u001b[0m\u001b[1;33m\u001b[0m\u001b[0m\n\u001b[0;32m    988\u001b[0m             \u001b[1;32mreturn\u001b[0m \u001b[0minto_c\u001b[0m\u001b[1;33m(\u001b[0m\u001b[1;33m(\u001b[0m\u001b[0mk\u001b[0m\u001b[1;33m,\u001b[0m \u001b[0mv\u001b[0m\u001b[1;33m.\u001b[0m\u001b[0mtolist\u001b[0m\u001b[1;33m(\u001b[0m\u001b[1;33m)\u001b[0m\u001b[1;33m)\u001b[0m \u001b[1;32mfor\u001b[0m \u001b[0mk\u001b[0m\u001b[1;33m,\u001b[0m \u001b[0mv\u001b[0m \u001b[1;32min\u001b[0m \u001b[0mcompat\u001b[0m\u001b[1;33m.\u001b[0m\u001b[0miteritems\u001b[0m\u001b[1;33m(\u001b[0m\u001b[0mself\u001b[0m\u001b[1;33m)\u001b[0m\u001b[1;33m)\u001b[0m\u001b[1;33m\u001b[0m\u001b[0m\n",
      "\u001b[1;32m~\\Anaconda3\\lib\\site-packages\\pandas\\core\\frame.py\u001b[0m in \u001b[0;36m<genexpr>\u001b[1;34m(.0)\u001b[0m\n\u001b[0;32m    984\u001b[0m         \u001b[1;32mif\u001b[0m \u001b[0morient\u001b[0m\u001b[1;33m.\u001b[0m\u001b[0mlower\u001b[0m\u001b[1;33m(\u001b[0m\u001b[1;33m)\u001b[0m\u001b[1;33m.\u001b[0m\u001b[0mstartswith\u001b[0m\u001b[1;33m(\u001b[0m\u001b[1;34m'd'\u001b[0m\u001b[1;33m)\u001b[0m\u001b[1;33m:\u001b[0m\u001b[1;33m\u001b[0m\u001b[0m\n\u001b[0;32m    985\u001b[0m             return into_c(\n\u001b[1;32m--> 986\u001b[1;33m                 (k, v.to_dict(into)) for k, v in compat.iteritems(self))\n\u001b[0m\u001b[0;32m    987\u001b[0m         \u001b[1;32melif\u001b[0m \u001b[0morient\u001b[0m\u001b[1;33m.\u001b[0m\u001b[0mlower\u001b[0m\u001b[1;33m(\u001b[0m\u001b[1;33m)\u001b[0m\u001b[1;33m.\u001b[0m\u001b[0mstartswith\u001b[0m\u001b[1;33m(\u001b[0m\u001b[1;34m'l'\u001b[0m\u001b[1;33m)\u001b[0m\u001b[1;33m:\u001b[0m\u001b[1;33m\u001b[0m\u001b[0m\n\u001b[0;32m    988\u001b[0m             \u001b[1;32mreturn\u001b[0m \u001b[0minto_c\u001b[0m\u001b[1;33m(\u001b[0m\u001b[1;33m(\u001b[0m\u001b[0mk\u001b[0m\u001b[1;33m,\u001b[0m \u001b[0mv\u001b[0m\u001b[1;33m.\u001b[0m\u001b[0mtolist\u001b[0m\u001b[1;33m(\u001b[0m\u001b[1;33m)\u001b[0m\u001b[1;33m)\u001b[0m \u001b[1;32mfor\u001b[0m \u001b[0mk\u001b[0m\u001b[1;33m,\u001b[0m \u001b[0mv\u001b[0m \u001b[1;32min\u001b[0m \u001b[0mcompat\u001b[0m\u001b[1;33m.\u001b[0m\u001b[0miteritems\u001b[0m\u001b[1;33m(\u001b[0m\u001b[0mself\u001b[0m\u001b[1;33m)\u001b[0m\u001b[1;33m)\u001b[0m\u001b[1;33m\u001b[0m\u001b[0m\n",
      "\u001b[1;32m~\\Anaconda3\\lib\\site-packages\\pandas\\core\\series.py\u001b[0m in \u001b[0;36mto_dict\u001b[1;34m(self, into)\u001b[0m\n\u001b[0;32m   1172\u001b[0m         \u001b[1;31m# GH16122\u001b[0m\u001b[1;33m\u001b[0m\u001b[1;33m\u001b[0m\u001b[0m\n\u001b[0;32m   1173\u001b[0m         \u001b[0minto_c\u001b[0m \u001b[1;33m=\u001b[0m \u001b[0mstandardize_mapping\u001b[0m\u001b[1;33m(\u001b[0m\u001b[0minto\u001b[0m\u001b[1;33m)\u001b[0m\u001b[1;33m\u001b[0m\u001b[0m\n\u001b[1;32m-> 1174\u001b[1;33m         \u001b[1;32mreturn\u001b[0m \u001b[0minto_c\u001b[0m\u001b[1;33m(\u001b[0m\u001b[0mcompat\u001b[0m\u001b[1;33m.\u001b[0m\u001b[0miteritems\u001b[0m\u001b[1;33m(\u001b[0m\u001b[0mself\u001b[0m\u001b[1;33m)\u001b[0m\u001b[1;33m)\u001b[0m\u001b[1;33m\u001b[0m\u001b[0m\n\u001b[0m\u001b[0;32m   1175\u001b[0m \u001b[1;33m\u001b[0m\u001b[0m\n\u001b[0;32m   1176\u001b[0m     \u001b[1;32mdef\u001b[0m \u001b[0mto_frame\u001b[0m\u001b[1;33m(\u001b[0m\u001b[0mself\u001b[0m\u001b[1;33m,\u001b[0m \u001b[0mname\u001b[0m\u001b[1;33m=\u001b[0m\u001b[1;32mNone\u001b[0m\u001b[1;33m)\u001b[0m\u001b[1;33m:\u001b[0m\u001b[1;33m\u001b[0m\u001b[0m\n",
      "\u001b[1;31mMemoryError\u001b[0m: "
     ]
    }
   ],
   "source": [
    "dct = get_tf_idf_dict(processed_lemm_text,save_to_csv = True )"
   ]
  },
  {
   "cell_type": "code",
   "execution_count": null,
   "metadata": {},
   "outputs": [],
   "source": []
  },
  {
   "cell_type": "code",
   "execution_count": 12,
   "metadata": {},
   "outputs": [
    {
     "data": {
      "text/plain": [
       "{0: 0.047614240855614935,\n",
       " 1: 0.0,\n",
       " 2: 0.0,\n",
       " 3: 0.0,\n",
       " 4: 0.0,\n",
       " 5: 0.0,\n",
       " 6: 0.0,\n",
       " 7: 0.0,\n",
       " 8: 0.0,\n",
       " 9: 0.0,\n",
       " 10: 0.0,\n",
       " 11: 0.0,\n",
       " 12: 0.0,\n",
       " 13: 0.0,\n",
       " 14: 0.0,\n",
       " 15: 0.0,\n",
       " 16: 0.0,\n",
       " 17: 0.0,\n",
       " 18: 0.0,\n",
       " 19: 0.0,\n",
       " 20: 0.0,\n",
       " 21: 0.0,\n",
       " 22: 0.0,\n",
       " 23: 0.0,\n",
       " 24: 0.0,\n",
       " 25: 0.0,\n",
       " 26: 0.04419255588160112,\n",
       " 27: 0.0,\n",
       " 28: 0.0,\n",
       " 29: 0.0,\n",
       " 30: 0.0,\n",
       " 31: 0.0,\n",
       " 32: 0.0,\n",
       " 33: 0.0,\n",
       " 34: 0.0,\n",
       " 35: 0.0,\n",
       " 36: 0.0,\n",
       " 37: 0.0,\n",
       " 38: 0.0,\n",
       " 39: 0.0,\n",
       " 40: 0.0,\n",
       " 41: 0.0,\n",
       " 42: 0.0,\n",
       " 43: 0.0,\n",
       " 44: 0.0,\n",
       " 45: 0.0,\n",
       " 46: 0.0,\n",
       " 47: 0.0,\n",
       " 48: 0.0,\n",
       " 49: 0.0,\n",
       " 50: 0.0,\n",
       " 51: 0.0,\n",
       " 52: 0.0,\n",
       " 53: 0.0,\n",
       " 54: 0.0,\n",
       " 55: 0.0,\n",
       " 56: 0.0,\n",
       " 57: 0.0,\n",
       " 58: 0.0,\n",
       " 59: 0.0,\n",
       " 60: 0.0,\n",
       " 61: 0.0,\n",
       " 62: 0.0,\n",
       " 63: 0.0,\n",
       " 64: 0.0,\n",
       " 65: 0.0,\n",
       " 66: 0.0,\n",
       " 67: 0.0,\n",
       " 68: 0.0,\n",
       " 69: 0.0,\n",
       " 70: 0.0,\n",
       " 71: 0.0,\n",
       " 72: 0.0,\n",
       " 73: 0.0,\n",
       " 74: 0.0,\n",
       " 75: 0.0,\n",
       " 76: 0.0,\n",
       " 77: 0.0,\n",
       " 78: 0.0,\n",
       " 79: 0.0,\n",
       " 80: 0.0,\n",
       " 81: 0.0,\n",
       " 82: 0.0,\n",
       " 83: 0.0,\n",
       " 84: 0.0,\n",
       " 85: 0.0,\n",
       " 86: 0.0,\n",
       " 87: 0.0,\n",
       " 88: 0.0,\n",
       " 89: 0.0,\n",
       " 90: 0.0,\n",
       " 91: 0.0,\n",
       " 92: 0.0,\n",
       " 93: 0.0,\n",
       " 94: 0.0,\n",
       " 95: 0.0,\n",
       " 96: 0.0,\n",
       " 97: 0.0,\n",
       " 98: 0.0,\n",
       " 99: 0.0,\n",
       " 100: 0.0,\n",
       " 101: 0.0,\n",
       " 102: 0.0,\n",
       " 103: 0.0,\n",
       " 104: 0.0,\n",
       " 105: 0.0,\n",
       " 106: 0.0,\n",
       " 107: 0.0,\n",
       " 108: 0.0,\n",
       " 109: 0.0,\n",
       " 110: 0.0,\n",
       " 111: 0.0,\n",
       " 112: 0.0,\n",
       " 113: 0.0,\n",
       " 114: 0.0,\n",
       " 115: 0.0,\n",
       " 116: 0.0,\n",
       " 117: 0.0,\n",
       " 118: 0.0,\n",
       " 119: 0.0,\n",
       " 120: 0.0,\n",
       " 121: 0.0,\n",
       " 122: 0.0,\n",
       " 123: 0.0,\n",
       " 124: 0.0,\n",
       " 125: 0.0,\n",
       " 126: 0.0,\n",
       " 127: 0.0,\n",
       " 128: 0.0,\n",
       " 129: 0.0,\n",
       " 130: 0.0,\n",
       " 131: 0.0,\n",
       " 132: 0.0,\n",
       " 133: 0.0,\n",
       " 134: 0.0,\n",
       " 135: 0.0,\n",
       " 136: 0.0,\n",
       " 137: 0.0,\n",
       " 138: 0.0,\n",
       " 139: 0.0,\n",
       " 140: 0.0,\n",
       " 141: 0.0,\n",
       " 142: 0.0,\n",
       " 143: 0.0,\n",
       " 144: 0.0,\n",
       " 145: 0.0,\n",
       " 146: 0.0,\n",
       " 147: 0.0,\n",
       " 148: 0.0,\n",
       " 149: 0.0,\n",
       " 150: 0.0,\n",
       " 151: 0.0,\n",
       " 152: 0.0,\n",
       " 153: 0.0,\n",
       " 154: 0.0,\n",
       " 155: 0.0,\n",
       " 156: 0.0,\n",
       " 157: 0.0,\n",
       " 158: 0.0,\n",
       " 159: 0.0,\n",
       " 160: 0.0,\n",
       " 161: 0.0,\n",
       " 162: 0.0,\n",
       " 163: 0.0,\n",
       " 164: 0.0,\n",
       " 165: 0.0,\n",
       " 166: 0.0,\n",
       " 167: 0.0,\n",
       " 168: 0.0,\n",
       " 169: 0.0,\n",
       " 170: 0.0,\n",
       " 171: 0.0,\n",
       " 172: 0.0,\n",
       " 173: 0.0,\n",
       " 174: 0.0,\n",
       " 175: 0.0,\n",
       " 176: 0.0,\n",
       " 177: 0.0,\n",
       " 178: 0.0,\n",
       " 179: 0.0,\n",
       " 180: 0.0,\n",
       " 181: 0.0,\n",
       " 182: 0.0,\n",
       " 183: 0.0,\n",
       " 184: 0.0,\n",
       " 185: 0.0,\n",
       " 186: 0.0,\n",
       " 187: 0.0,\n",
       " 188: 0.0,\n",
       " 189: 0.0,\n",
       " 190: 0.0,\n",
       " 191: 0.0,\n",
       " 192: 0.0,\n",
       " 193: 0.0,\n",
       " 194: 0.0,\n",
       " 195: 0.0,\n",
       " 196: 0.0,\n",
       " 197: 0.0,\n",
       " 198: 0.0,\n",
       " 199: 0.0}"
      ]
     },
     "execution_count": 12,
     "metadata": {},
     "output_type": "execute_result"
    }
   ],
   "source": [
    "dct['указ президент россия']"
   ]
  },
  {
   "cell_type": "code",
   "execution_count": null,
   "metadata": {},
   "outputs": [],
   "source": []
  }
 ],
 "metadata": {
  "kernelspec": {
   "display_name": "Python 3",
   "language": "python",
   "name": "python3"
  },
  "language_info": {
   "codemirror_mode": {
    "name": "ipython",
    "version": 3
   },
   "file_extension": ".py",
   "mimetype": "text/x-python",
   "name": "python",
   "nbconvert_exporter": "python",
   "pygments_lexer": "ipython3",
   "version": "3.6.4"
  }
 },
 "nbformat": 4,
 "nbformat_minor": 2
}
