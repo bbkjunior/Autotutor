{
 "cells": [
  {
   "cell_type": "code",
   "execution_count": null,
   "metadata": {},
   "outputs": [],
   "source": [
    "import requests\n",
    "\n",
    "headers = {\n",
    "    'Origin': 'http://fiddle.jshell.net',\n",
    "    'Accept-Encoding': 'gzip, deflate',\n",
    "    'Accept-Language': 'en-US,en;q=0.8',\n",
    "    'User-Agent': 'Mozilla/5.0 (Macintosh; Intel Mac OS X 10_10_1) AppleWebKit/537.36 (KHTML, like Gecko) Chrome/39.0.2171.95 Safari/537.36',\n",
    "    'Content-Type': 'application/x-www-form-urlencoded; charset=UTF-8',\n",
    "    'Accept': '*/*',\n",
    "    'Referer': 'http://fiddle.jshell.net/_display/',\n",
    "    'X-Requested-With': 'XMLHttpRequest',\n",
    "    'Connection': 'keep-alive',\n",
    "}\n",
    "\n",
    "data = {\n",
    "  'msg1': 'wow',\n",
    "  'msg2': 'such'\n",
    "}\n",
    "\n",
    "response = requests.post('http://fiddle.jshell.net/echo/html/', headers=headers, data=data)"
   ]
  },
  {
   "cell_type": "code",
   "execution_count": null,
   "metadata": {},
   "outputs": [],
   "source": [
    "curl --header \"Content-Type: application/json; charset=UTF-8\" \n",
    "--request POST \n",
    "--data '{\"type\":\"with choice\",\"question\":\"Вопросик 1\", \"answers\": {\"a\":\"1\", \"b\":\"2\"}, \"true answer\":\"a\"}' \n",
    "http://localhost:5000/addtest"
   ]
  },
  {
   "cell_type": "code",
   "execution_count": 4,
   "metadata": {},
   "outputs": [],
   "source": [
    "import requests\n"
   ]
  },
  {
   "cell_type": "code",
   "execution_count": 2,
   "metadata": {},
   "outputs": [],
   "source": [
    "headers = {\"Content-Type\":\"application/json\",\"charset\":\"UTF-8\" }\n",
    "dt = {\"type\":\"with choice\",\"question\":\"Вопросик 1\", \"answers\": {\"a\":\"1\", \"b\":\"2\"}, \"true answer\":\"a\"}"
   ]
  },
  {
   "cell_type": "code",
   "execution_count": 23,
   "metadata": {},
   "outputs": [
    {
     "data": {
      "text/plain": [
       "<Response [400]>"
      ]
     },
     "execution_count": 23,
     "metadata": {},
     "output_type": "execute_result"
    }
   ],
   "source": [
    "requests.post(\"http://localhost:5000/addtest\",headers=headers, data=dt)"
   ]
  },
  {
   "cell_type": "code",
   "execution_count": null,
   "metadata": {},
   "outputs": [],
   "source": [
    "curl --header \"Content-Type: application/json; charset=UTF-8\" \n",
    "--request POST \n",
    "--data '{\"type\":\"with choice\",\"question\":\"Вопросик 1\", \"answers\": {\"a\":\"1\", \"b\":\"2\"}, \"true answer\":\"a\"}' \n",
    "http://localhost:5000/addtest"
   ]
  },
  {
   "cell_type": "code",
   "execution_count": 7,
   "metadata": {},
   "outputs": [
    {
     "data": {
      "text/plain": [
       "'<!DOCTYPE HTML PUBLIC \"-//W3C//DTD HTML 3.2 Final//EN\">\\n<title>500 Internal Server Error</title>\\n<h1>Internal Server Error</h1>\\n<p>The server encountered an internal error and was unable to complete your request. Either the server is overloaded or there is an error in the application.</p>\\n'"
      ]
     },
     "execution_count": 7,
     "metadata": {},
     "output_type": "execute_result"
    }
   ],
   "source": [
    "import requests\n",
    "\n",
    "headers = {\n",
    "    'Content-Type': 'application/json; charset=UTF-8',\n",
    "}\n",
    "\n",
    "data = '{\"type\":\"with choice\",\"question\":\"quest 1\", \"answers\": {\"a\":\"1\", \"b\":\"2\"}, \"true answer\":\"a\"}'\n",
    "\n",
    "# response = requests.post('http://localhost:5000/addtest', headers=headers, data=data)\n",
    "\n",
    "response = requests.post(\"http://127.0.0.1:5000/addtest\", headers=headers, data=data)\n",
    "\n",
    "response.text"
   ]
  },
  {
   "cell_type": "code",
   "execution_count": null,
   "metadata": {},
   "outputs": [],
   "source": []
  },
  {
   "cell_type": "code",
   "execution_count": 1,
   "metadata": {},
   "outputs": [],
   "source": [
    "import requests\n",
    "\n",
    "headers = {\n",
    "    'Content-Type': 'application/json; charset=UTF-8',\n",
    "}\n",
    "\n",
    "data = '{ \"id\":\"1\"}'\n",
    "\n",
    "response = requests.post('http://localhost:5000/gettest', headers=headers, data=data)\n"
   ]
  },
  {
   "cell_type": "code",
   "execution_count": 2,
   "metadata": {},
   "outputs": [
    {
     "data": {
      "text/plain": [
       "'<!DOCTYPE HTML PUBLIC \"-//W3C//DTD HTML 3.2 Final//EN\">\\n<title>405 Method Not Allowed</title>\\n<h1>Method Not Allowed</h1>\\n<p>The method is not allowed for the requested URL.</p>\\n'"
      ]
     },
     "execution_count": 2,
     "metadata": {},
     "output_type": "execute_result"
    }
   ],
   "source": [
    "response.text"
   ]
  },
  {
   "cell_type": "code",
   "execution_count": 8,
   "metadata": {},
   "outputs": [
    {
     "name": "stdout",
     "output_type": "stream",
     "text": [
      "Requirement already satisfied: chardet in /Users/nigula/Library/Python/3.7/lib/python/site-packages (3.0.4)\r\n"
     ]
    }
   ],
   "source": [
    "!pip3 install chardet\n"
   ]
  },
  {
   "cell_type": "code",
   "execution_count": 10,
   "metadata": {},
   "outputs": [],
   "source": [
    "import chardet"
   ]
  },
  {
   "cell_type": "code",
   "execution_count": 11,
   "metadata": {},
   "outputs": [],
   "source": [
    "sent =\"\\u0420\\u0430\\u043d\\u0435\\u0435 \\u0432 \\u0442\\u043e\\u0442 \\u0436\\u0435 \\u0434\\u0435\\u043d\\u044c \\u043d\\u0430\\u0440\\u043e\\u0434\\u043d\\u044b\\u0439 \\u0430\\u0440\\u0442\\u0438\\u0441\\u0442 \\u0420\\u043e\\u0441\\u0441\\u0438\\u0438 \\u0438 \\u043e\\u0441\\u043d\\u043e\\u0432\\u0430\\u0442\\u0435\\u043b\\u044c \\u00ab\\u0425\\u043e\\u0440\\u0430 \\u0422\\u0443\\u0440\\u0435\\u0446\\u043a\\u043e\\u0433\\u043e\\u00bb \\u041c\\u0438\\u0445\\u0430\\u0438\\u043b \\u0422\\u0443\\u0440\\u0435\\u0446\\u043a\\u0438\\u0439 \\u043f\\u0440\\u0435\\u0434\\u043b\\u043e\\u0436\\u0438\\u043b \\u0441\\u043e\\u0445\\u0440\\u0430\\u043d\\u0438\\u0442\\u044c \\u0430\\u043d\\u0441\\u0430\\u043c\\u0431\\u043b\\u044c\""
   ]
  },
  {
   "cell_type": "code",
   "execution_count": 18,
   "metadata": {},
   "outputs": [],
   "source": [
    "a = \"мама\".encode(\"utf-8\")"
   ]
  },
  {
   "cell_type": "code",
   "execution_count": 19,
   "metadata": {},
   "outputs": [
    {
     "data": {
      "text/plain": [
       "'мама'"
      ]
     },
     "execution_count": 19,
     "metadata": {},
     "output_type": "execute_result"
    }
   ],
   "source": [
    "a.decode(\"utf-8\")"
   ]
  },
  {
   "cell_type": "code",
   "execution_count": 16,
   "metadata": {},
   "outputs": [
    {
     "ename": "LookupError",
     "evalue": "unknown encoding: unicode",
     "output_type": "error",
     "traceback": [
      "\u001b[0;31m---------------------------------------------------------------------------\u001b[0m",
      "\u001b[0;31mLookupError\u001b[0m                               Traceback (most recent call last)",
      "\u001b[0;32m<ipython-input-16-f6aacddac364>\u001b[0m in \u001b[0;36m<module>\u001b[0;34m\u001b[0m\n\u001b[0;32m----> 1\u001b[0;31m \u001b[0msent\u001b[0m\u001b[0;34m.\u001b[0m\u001b[0mencode\u001b[0m\u001b[0;34m(\u001b[0m\u001b[0;34m\"unicode\"\u001b[0m\u001b[0;34m)\u001b[0m\u001b[0;34m\u001b[0m\u001b[0;34m\u001b[0m\u001b[0m\n\u001b[0m",
      "\u001b[0;31mLookupError\u001b[0m: unknown encoding: unicode"
     ]
    }
   ],
   "source": [
    "sent.encode(\"unicode\")"
   ]
  },
  {
   "cell_type": "code",
   "execution_count": 13,
   "metadata": {},
   "outputs": [
    {
     "ename": "TypeError",
     "evalue": "Expected object of type bytes or bytearray, got: <class 'str'>",
     "output_type": "error",
     "traceback": [
      "\u001b[0;31m---------------------------------------------------------------------------\u001b[0m",
      "\u001b[0;31mTypeError\u001b[0m                                 Traceback (most recent call last)",
      "\u001b[0;32m<ipython-input-13-3bb4c4341b5a>\u001b[0m in \u001b[0;36m<module>\u001b[0;34m\u001b[0m\n\u001b[1;32m      1\u001b[0m \u001b[0;32mimport\u001b[0m \u001b[0mchardet\u001b[0m\u001b[0;34m\u001b[0m\u001b[0;34m\u001b[0m\u001b[0m\n\u001b[1;32m      2\u001b[0m \u001b[0;34m\u001b[0m\u001b[0m\n\u001b[0;32m----> 3\u001b[0;31m \u001b[0mthe_encoding\u001b[0m \u001b[0;34m=\u001b[0m \u001b[0mchardet\u001b[0m\u001b[0;34m.\u001b[0m\u001b[0mdetect\u001b[0m\u001b[0;34m(\u001b[0m\u001b[0;34m'your string'\u001b[0m\u001b[0;34m)\u001b[0m\u001b[0;34m[\u001b[0m\u001b[0;34m'encoding'\u001b[0m\u001b[0;34m]\u001b[0m\u001b[0;34m\u001b[0m\u001b[0;34m\u001b[0m\u001b[0m\n\u001b[0m",
      "\u001b[0;32m~/Library/Python/3.7/lib/python/site-packages/chardet/__init__.py\u001b[0m in \u001b[0;36mdetect\u001b[0;34m(byte_str)\u001b[0m\n\u001b[1;32m     32\u001b[0m         \u001b[0;32mif\u001b[0m \u001b[0;32mnot\u001b[0m \u001b[0misinstance\u001b[0m\u001b[0;34m(\u001b[0m\u001b[0mbyte_str\u001b[0m\u001b[0;34m,\u001b[0m \u001b[0mbytes\u001b[0m\u001b[0;34m)\u001b[0m\u001b[0;34m:\u001b[0m\u001b[0;34m\u001b[0m\u001b[0;34m\u001b[0m\u001b[0m\n\u001b[1;32m     33\u001b[0m             raise TypeError('Expected object of type bytes or bytearray, got: '\n\u001b[0;32m---> 34\u001b[0;31m                             '{0}'.format(type(byte_str)))\n\u001b[0m\u001b[1;32m     35\u001b[0m         \u001b[0;32melse\u001b[0m\u001b[0;34m:\u001b[0m\u001b[0;34m\u001b[0m\u001b[0;34m\u001b[0m\u001b[0m\n\u001b[1;32m     36\u001b[0m             \u001b[0mbyte_str\u001b[0m \u001b[0;34m=\u001b[0m \u001b[0mbytearray\u001b[0m\u001b[0;34m(\u001b[0m\u001b[0mbyte_str\u001b[0m\u001b[0;34m)\u001b[0m\u001b[0;34m\u001b[0m\u001b[0;34m\u001b[0m\u001b[0m\n",
      "\u001b[0;31mTypeError\u001b[0m: Expected object of type bytes or bytearray, got: <class 'str'>"
     ]
    }
   ],
   "source": [
    "import chardet\n",
    "\n",
    "the_encoding = chardet.detect('your string')['encoding']"
   ]
  },
  {
   "cell_type": "code",
   "execution_count": 29,
   "metadata": {},
   "outputs": [],
   "source": [
    "import requests\n",
    "\n",
    "headers = {\n",
    "    'Content-Type': 'application/json; charset=UTF-8',\n",
    "}\n",
    "\n",
    "data = '{ \"user_id\":\"pupkin_zalupkin\"}'\n",
    "\n",
    "response = requests.get('http://localhost:5000/gettest', headers=headers, data=data)\n"
   ]
  },
  {
   "cell_type": "code",
   "execution_count": 27,
   "metadata": {},
   "outputs": [],
   "source": [
    "import json"
   ]
  },
  {
   "cell_type": "code",
   "execution_count": 32,
   "metadata": {},
   "outputs": [
    {
     "data": {
      "text/plain": [
       "str"
      ]
     },
     "execution_count": 32,
     "metadata": {},
     "output_type": "execute_result"
    }
   ],
   "source": [
    "type(response.text)"
   ]
  },
  {
   "cell_type": "code",
   "execution_count": 33,
   "metadata": {},
   "outputs": [
    {
     "data": {
      "text/plain": [
       "{'text_maps_music_3': {'questions': [{'sent_ind': 7,\n",
       "    'sent_text': '14 января стало известно что тело Боуи тайно кремировали в Нью-Йорке'},\n",
       "   {'sent_ind': 9,\n",
       "    'sent_text': 'За свою жизнь Боуи выпустил около 30 альбомов среди которых The Rise and Fall of Ziggy Stardust and the Spiders from Mars Young Americans Heroes 1 Outside'},\n",
       "   {'sent_ind': 0,\n",
       "    'sent_text': 'Британский музыкант Дэвид Боуи подготовил ряд музыкальных композиций которые должны будут выйти после его смерти'},\n",
       "   {'sent_ind': 5,\n",
       "    'sent_text': 'Композитор певец актер и художник Дэвид Боуи умер 10 января спустя два дня после своего 69-летия'},\n",
       "   {'sent_ind': 1,\n",
       "    'sent_text': 'Об этом сообщает в воскресенье 24 января The Independent'}],\n",
       "  'whole_text': 'Британский музыкант Дэвид Боуи подготовил ряд музыкальных композиций, которые должны будут выйти после его смерти. Об этом сообщает в воскресенье, 24 января, The Independent. Релиз первого трека может состояться в 2017 году. По информации издания, песни могут выходить не в том порядке, в котором они были записаны. Издание отмечает, что свежие композиции могут составить новый альбом или даже несколько пластинок 18 января СМИ сообщили, что последний студийный альбом музыканта Blackstar, вышедший за два дня до его смерти, 8 января 2016 года, возглавил чарты российского iTunes, сместив пластинку Адель «25» на второе место. Композитор, певец, актер и художник Дэвид Боуи умер 10 января, спустя два дня после своего 69-летия. Полтора года артист боролся с раком печени. 14 января стало известно, что тело Боуи тайно кремировали в Нью-Йорке. Ни члены семьи, ни близкие друзья не присутствовали во время церемонии. За свою жизнь Боуи выпустил около 30 альбомов, среди которых The Rise and Fall of Ziggy Stardust and the Spiders from Mars, Young Americans, Heroes, 1 Outside. В фильмографии Боуи такие фильмы, как «Человек, который упал на землю», «Голод», «Лабиринт» и «Твин Пикс: Сквозь огонь» (приквел к сериалу «Твин Пикс»).'}}"
      ]
     },
     "execution_count": 33,
     "metadata": {},
     "output_type": "execute_result"
    }
   ],
   "source": [
    "json.loads(response.text)"
   ]
  },
  {
   "cell_type": "code",
   "execution_count": 12,
   "metadata": {},
   "outputs": [
    {
     "ename": "TypeError",
     "evalue": "Expected object of type bytes or bytearray, got: <class 'str'>",
     "output_type": "error",
     "traceback": [
      "\u001b[0;31m---------------------------------------------------------------------------\u001b[0m",
      "\u001b[0;31mTypeError\u001b[0m                                 Traceback (most recent call last)",
      "\u001b[0;32m<ipython-input-12-0bde15dd0f1c>\u001b[0m in \u001b[0;36m<module>\u001b[0;34m\u001b[0m\n\u001b[0;32m----> 1\u001b[0;31m \u001b[0mchardet\u001b[0m\u001b[0;34m.\u001b[0m\u001b[0mdetect\u001b[0m\u001b[0;34m(\u001b[0m\u001b[0msent\u001b[0m\u001b[0;34m)\u001b[0m\u001b[0;34m\u001b[0m\u001b[0;34m\u001b[0m\u001b[0m\n\u001b[0m",
      "\u001b[0;32m~/Library/Python/3.7/lib/python/site-packages/chardet/__init__.py\u001b[0m in \u001b[0;36mdetect\u001b[0;34m(byte_str)\u001b[0m\n\u001b[1;32m     32\u001b[0m         \u001b[0;32mif\u001b[0m \u001b[0;32mnot\u001b[0m \u001b[0misinstance\u001b[0m\u001b[0;34m(\u001b[0m\u001b[0mbyte_str\u001b[0m\u001b[0;34m,\u001b[0m \u001b[0mbytes\u001b[0m\u001b[0;34m)\u001b[0m\u001b[0;34m:\u001b[0m\u001b[0;34m\u001b[0m\u001b[0;34m\u001b[0m\u001b[0m\n\u001b[1;32m     33\u001b[0m             raise TypeError('Expected object of type bytes or bytearray, got: '\n\u001b[0;32m---> 34\u001b[0;31m                             '{0}'.format(type(byte_str)))\n\u001b[0m\u001b[1;32m     35\u001b[0m         \u001b[0;32melse\u001b[0m\u001b[0;34m:\u001b[0m\u001b[0;34m\u001b[0m\u001b[0;34m\u001b[0m\u001b[0m\n\u001b[1;32m     36\u001b[0m             \u001b[0mbyte_str\u001b[0m \u001b[0;34m=\u001b[0m \u001b[0mbytearray\u001b[0m\u001b[0;34m(\u001b[0m\u001b[0mbyte_str\u001b[0m\u001b[0;34m)\u001b[0m\u001b[0;34m\u001b[0m\u001b[0;34m\u001b[0m\u001b[0m\n",
      "\u001b[0;31mTypeError\u001b[0m: Expected object of type bytes or bytearray, got: <class 'str'>"
     ]
    }
   ],
   "source": [
    "chardet.detect(sent)"
   ]
  }
 ],
 "metadata": {
  "kernelspec": {
   "display_name": "Python 3",
   "language": "python",
   "name": "python3"
  },
  "language_info": {
   "codemirror_mode": {
    "name": "ipython",
    "version": 3
   },
   "file_extension": ".py",
   "mimetype": "text/x-python",
   "name": "python",
   "nbconvert_exporter": "python",
   "pygments_lexer": "ipython3",
   "version": "3.7.4"
  }
 },
 "nbformat": 4,
 "nbformat_minor": 2
}
